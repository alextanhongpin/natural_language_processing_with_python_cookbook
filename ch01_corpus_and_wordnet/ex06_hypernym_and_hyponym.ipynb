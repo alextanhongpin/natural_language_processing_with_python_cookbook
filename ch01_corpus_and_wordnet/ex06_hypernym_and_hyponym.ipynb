{
 "cells": [
  {
   "cell_type": "markdown",
   "metadata": {},
   "source": [
    "# Hyponym and Hypernym\n",
    "\n",
    "\n",
    "## Introduction\n",
    "\n",
    "A hyponym is a type-of relationship with its hypernym.\n",
    "Example, red and green are all hyponyms of color (their hypernym).\n",
    "\n",
    "A hyponym is a word or phrase whose semantic field is more specific that its hypernym."
   ]
  },
  {
   "cell_type": "markdown",
   "metadata": {},
   "source": [
    "## Example \n",
    "\n",
    "This example shows how to get the hypernym and hyponym using wordnet synset."
   ]
  },
  {
   "cell_type": "code",
   "execution_count": 1,
   "metadata": {},
   "outputs": [],
   "source": [
    "from nltk.corpus import wordnet as wn"
   ]
  },
  {
   "cell_type": "code",
   "execution_count": 11,
   "metadata": {},
   "outputs": [
    {
     "data": {
      "text/plain": [
       "[Synset('female.n.02')]"
      ]
     },
     "execution_count": 11,
     "metadata": {},
     "output_type": "execute_result"
    }
   ],
   "source": [
    "woman = wn.synset('woman.n.02')\n",
    "woman.hypernyms()"
   ]
  },
  {
   "cell_type": "code",
   "execution_count": 22,
   "metadata": {},
   "outputs": [
    {
     "name": "stdout",
     "output_type": "stream",
     "text": [
      "Hypernym path: 1\n",
      "entity.n.01 , physical_entity.n.01 , causal_agent.n.01 , person.n.01 , female.n.02 , woman.n.02 , \n",
      "\n",
      "Hypernym path: 2\n",
      "entity.n.01 , physical_entity.n.01 , object.n.01 , whole.n.02 , living_thing.n.01 , organism.n.01 , person.n.01 , female.n.02 , woman.n.02 , \n",
      "\n"
     ]
    }
   ],
   "source": [
    "woman_paths = woman.hypernym_paths()\n",
    "for idx, path in enumerate(woman_paths):\n",
    "    print('Hypernym path:', idx+1)\n",
    "    for synset in path:\n",
    "        print(synset.name(), ', ', end='')\n",
    "    print('\\n')"
   ]
  },
  {
   "cell_type": "code",
   "execution_count": 10,
   "metadata": {},
   "outputs": [
    {
     "data": {
      "text/plain": [
       "[Synset('bedroom_furniture.n.01')]"
      ]
     },
     "execution_count": 10,
     "metadata": {},
     "output_type": "execute_result"
    }
   ],
   "source": [
    "bed = wn.synset('bed.n.01')\n",
    "bed.hypernyms()"
   ]
  },
  {
   "cell_type": "code",
   "execution_count": 24,
   "metadata": {},
   "outputs": [
    {
     "name": "stdout",
     "output_type": "stream",
     "text": [
      "Type of beds:\n"
     ]
    },
    {
     "data": {
      "text/plain": [
       "[Synset('berth.n.03'),\n",
       " Synset('built-in_bed.n.01'),\n",
       " Synset('bunk.n.03'),\n",
       " Synset('bunk_bed.n.01'),\n",
       " Synset('cot.n.03'),\n",
       " Synset('couch.n.03'),\n",
       " Synset('deathbed.n.02'),\n",
       " Synset('double_bed.n.01'),\n",
       " Synset('four-poster.n.01'),\n",
       " Synset('hammock.n.02'),\n",
       " Synset('marriage_bed.n.01'),\n",
       " Synset('murphy_bed.n.01'),\n",
       " Synset('plank-bed.n.01'),\n",
       " Synset('platform_bed.n.01'),\n",
       " Synset('sickbed.n.01'),\n",
       " Synset('single_bed.n.01'),\n",
       " Synset('sleigh_bed.n.01'),\n",
       " Synset('trundle_bed.n.01'),\n",
       " Synset('twin_bed.n.01'),\n",
       " Synset('water_bed.n.01')]"
      ]
     },
     "execution_count": 24,
     "metadata": {},
     "output_type": "execute_result"
    }
   ],
   "source": [
    "type_of_beds = bed.hyponyms()\n",
    "print('Type of beds:')\n",
    "type_of_beds"
   ]
  },
  {
   "cell_type": "code",
   "execution_count": 30,
   "metadata": {},
   "outputs": [
    {
     "name": "stdout",
     "output_type": "stream",
     "text": [
      "['Murphy_bed', 'berth', 'built-in_bed', 'built_in_bed', 'bunk', 'bunk_bed', 'camp_bed', 'cot', 'couch', 'deathbed', 'double_bed', 'four-poster', 'hammock', 'marriage_bed', 'plank-bed', 'platform_bed', 'sack', 'sickbed', 'single_bed', 'sleigh_bed', 'truckle', 'truckle_bed', 'trundle', 'trundle_bed', 'twin_bed', 'water_bed']\n"
     ]
    }
   ],
   "source": [
    "print(sorted(set([lemma.name() \n",
    "                  for synset in type_of_beds \n",
    "                  for lemma in synset.lemmas()])))"
   ]
  },
  {
   "cell_type": "code",
   "execution_count": null,
   "metadata": {},
   "outputs": [],
   "source": []
  }
 ],
 "metadata": {
  "kernelspec": {
   "display_name": "Python 3",
   "language": "python",
   "name": "python3"
  },
  "language_info": {
   "codemirror_mode": {
    "name": "ipython",
    "version": 3
   },
   "file_extension": ".py",
   "mimetype": "text/x-python",
   "name": "python",
   "nbconvert_exporter": "python",
   "pygments_lexer": "ipython3",
   "version": "3.7.3"
  }
 },
 "nbformat": 4,
 "nbformat_minor": 4
}
