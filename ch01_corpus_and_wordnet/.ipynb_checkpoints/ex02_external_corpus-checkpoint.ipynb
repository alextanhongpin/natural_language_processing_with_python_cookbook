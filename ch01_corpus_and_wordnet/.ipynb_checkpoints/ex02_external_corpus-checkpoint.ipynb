{
 "cells": [
  {
   "cell_type": "markdown",
   "metadata": {},
   "source": [
    "## Loading External Corpus\n",
    "\n",
    "This example shows how to load external corpus using the `CategorizedPlaintextCorpusReader`"
   ]
  },
  {
   "cell_type": "code",
   "execution_count": 4,
   "metadata": {},
   "outputs": [],
   "source": [
    "from nltk.corpus import CategorizedPlaintextCorpusReader"
   ]
  },
  {
   "cell_type": "code",
   "execution_count": 5,
   "metadata": {},
   "outputs": [],
   "source": [
    "!open ."
   ]
  },
  {
   "cell_type": "code",
   "execution_count": 10,
   "metadata": {},
   "outputs": [
    {
     "name": "stdout",
     "output_type": "stream",
     "text": [
      "['neg', 'pos']\n"
     ]
    }
   ],
   "source": [
    "# Review data from here: http://www.cs.cornell.edu/people/pabo/movie-review-data/\n",
    "reader = CategorizedPlaintextCorpusReader(r'./review_polarity/txt_sentoken', \n",
    "                                          r'.*\\.txt', \n",
    "                                          cat_pattern=r'(\\w+)/*')\n",
    "print(reader.categories())"
   ]
  },
  {
   "cell_type": "code",
   "execution_count": 12,
   "metadata": {},
   "outputs": [
    {
     "data": {
      "text/plain": [
       "(2000,\n",
       " ['neg/cv000_29416.txt',\n",
       "  'neg/cv001_19502.txt',\n",
       "  'neg/cv002_17424.txt',\n",
       "  'neg/cv003_12683.txt',\n",
       "  'neg/cv004_12641.txt'])"
      ]
     },
     "execution_count": 12,
     "metadata": {},
     "output_type": "execute_result"
    }
   ],
   "source": [
    "fileids = reader.fileids()\n",
    "len(fileids), fileids[:5]"
   ]
  },
  {
   "cell_type": "code",
   "execution_count": 13,
   "metadata": {},
   "outputs": [],
   "source": [
    "pos_files = reader.fileids(categories='pos')\n",
    "neg_files = reader.fileids(categories='neg')"
   ]
  },
  {
   "cell_type": "code",
   "execution_count": 17,
   "metadata": {},
   "outputs": [
    {
     "data": {
      "text/plain": [
       "('pos/cv601_23453.txt', 'neg/cv712_24217.txt')"
      ]
     },
     "execution_count": 17,
     "metadata": {},
     "output_type": "execute_result"
    }
   ],
   "source": [
    "import random\n",
    "pos_file = random.choice(pos_files)\n",
    "neg_file = random.choice(neg_files)\n",
    "pos_file, neg_file"
   ]
  },
  {
   "cell_type": "code",
   "execution_count": 22,
   "metadata": {},
   "outputs": [
    {
     "name": "stdout",
     "output_type": "stream",
     "text": [
      "i rented \" brokedown palace \" last night blind , having heard nothing about it beforehand , and i enjoyed it immensely despite some flaws . \n",
      "for anyone wishing to have the same experience i would suggest reserving judgement of the movie until viewing it in its entirety . \n",
      "that is no easy task . \n",
      "superficially , it bears an unfortunate ( and not necessarily unintended ) resemblance to several other movies , notably \" return to paradise \" and \" midnight express . \n",
      "\" as a result nearly every review of \" brokedown palace \" i subsequently read became "
     ]
    }
   ],
   "source": [
    "for w in reader.words(pos_file)[:100]:\n",
    "    print(w + ' ', end='')\n",
    "    if w is '.':\n",
    "        print()"
   ]
  },
  {
   "cell_type": "code",
   "execution_count": 23,
   "metadata": {},
   "outputs": [
    {
     "name": "stdout",
     "output_type": "stream",
     "text": [
      "preposterous religious action film ( produced by the trinity broadcasting network ) about a code hidden within the text of the bible that when deciphered will lead to the end of the world ( nice of those bible authors to put a doomsday code into the most read book ever eh ? ) . \n",
      "michael york plays a millionaire diplomat who breaks the code and sets out to become god on earth and fulfill the doomsday prophecies , while casper van dien ( terribly miscast and giving an awful performance as a result ) plays the atheist motivational speaker who "
     ]
    }
   ],
   "source": [
    "for w in reader.words(neg_file)[:100]:\n",
    "    print(w + ' ', end='')\n",
    "    if w is '.':\n",
    "        print()"
   ]
  }
 ],
 "metadata": {
  "kernelspec": {
   "display_name": "Python 3",
   "language": "python",
   "name": "python3"
  },
  "language_info": {
   "codemirror_mode": {
    "name": "ipython",
    "version": 3
   },
   "file_extension": ".py",
   "mimetype": "text/x-python",
   "name": "python",
   "nbconvert_exporter": "python",
   "pygments_lexer": "ipython3",
   "version": "3.7.3"
  }
 },
 "nbformat": 4,
 "nbformat_minor": 4
}
