{
 "cells": [
  {
   "cell_type": "markdown",
   "metadata": {},
   "source": [
    "## Counting words\n",
    "\n",
    "This example shows how to count the `wh` words in three different genres in all Brown corpus."
   ]
  },
  {
   "cell_type": "code",
   "execution_count": 3,
   "metadata": {},
   "outputs": [
    {
     "name": "stderr",
     "output_type": "stream",
     "text": [
      "[nltk_data] Downloading package brown to\n",
      "[nltk_data]     /Users/alextanhongpin/nltk_data...\n",
      "[nltk_data]   Unzipping corpora/brown.zip.\n"
     ]
    }
   ],
   "source": [
    "import nltk\n",
    "nltk.download('brown')\n",
    "from nltk.corpus import brown"
   ]
  },
  {
   "cell_type": "code",
   "execution_count": 4,
   "metadata": {},
   "outputs": [
    {
     "data": {
      "text/plain": [
       "['adventure',\n",
       " 'belles_lettres',\n",
       " 'editorial',\n",
       " 'fiction',\n",
       " 'government',\n",
       " 'hobbies',\n",
       " 'humor',\n",
       " 'learned',\n",
       " 'lore',\n",
       " 'mystery',\n",
       " 'news',\n",
       " 'religion',\n",
       " 'reviews',\n",
       " 'romance',\n",
       " 'science_fiction']"
      ]
     },
     "execution_count": 4,
     "metadata": {},
     "output_type": "execute_result"
    }
   ],
   "source": [
    "brown.categories()"
   ]
  },
  {
   "cell_type": "code",
   "execution_count": 5,
   "metadata": {},
   "outputs": [],
   "source": [
    "genres = ['fiction', 'humor', 'romance']\n",
    "whwords = ['what', 'which', 'how', 'why', 'when', 'where', 'who']"
   ]
  },
  {
   "cell_type": "code",
   "execution_count": 16,
   "metadata": {},
   "outputs": [
    {
     "name": "stdout",
     "output_type": "stream",
     "text": [
      "Analyzing wh words in genre 'fiction'\n",
      "what: 128\n",
      "which: 123\n",
      "how: 54\n",
      "why: 18\n",
      "when: 133\n",
      "where: 76\n",
      "who: 103\n",
      "\n",
      "Analyzing wh words in genre 'humor'\n",
      "what: 36\n",
      "which: 62\n",
      "how: 18\n",
      "why: 9\n",
      "when: 52\n",
      "where: 15\n",
      "who: 48\n",
      "\n",
      "Analyzing wh words in genre 'romance'\n",
      "what: 121\n",
      "which: 104\n",
      "how: 60\n",
      "why: 34\n",
      "when: 126\n",
      "where: 54\n",
      "who: 89\n",
      "\n"
     ]
    }
   ],
   "source": [
    "for genre in genres:\n",
    "    print(f\"Analyzing wh words in genre '{genre}'\")\n",
    "    genre_text = brown.words(categories=genre)\n",
    "    \n",
    "    # Accepts a list, and returns a map of word with their respective frequency.\n",
    "    fdist = nltk.FreqDist(genre_text)\n",
    "    \n",
    "    for wh in whwords:\n",
    "        print(f'{wh}: {fdist[wh]}')\n",
    "    print()"
   ]
  }
 ],
 "metadata": {
  "kernelspec": {
   "display_name": "Python 3",
   "language": "python",
   "name": "python3"
  },
  "language_info": {
   "codemirror_mode": {
    "name": "ipython",
    "version": 3
   },
   "file_extension": ".py",
   "mimetype": "text/x-python",
   "name": "python",
   "nbconvert_exporter": "python",
   "pygments_lexer": "ipython3",
   "version": "3.7.3"
  }
 },
 "nbformat": 4,
 "nbformat_minor": 4
}
