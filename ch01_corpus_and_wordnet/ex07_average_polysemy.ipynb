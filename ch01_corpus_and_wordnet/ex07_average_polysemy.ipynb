{
 "cells": [
  {
   "cell_type": "markdown",
   "metadata": {},
   "source": [
    "# Average Polysemy\n",
    "\n",
    "This example shows how to compute the average polysemy of nounds, verbs, adjectives and adverbs according to WordNet.\n",
    "\n",
    "__Polysemy__ means many possible meanings of a word or a phrase."
   ]
  },
  {
   "cell_type": "code",
   "execution_count": 8,
   "metadata": {},
   "outputs": [],
   "source": [
    "from nltk.corpus import wordnet as wn"
   ]
  },
  {
   "cell_type": "code",
   "execution_count": 9,
   "metadata": {},
   "outputs": [],
   "source": [
    "type = 'n'"
   ]
  },
  {
   "cell_type": "code",
   "execution_count": 10,
   "metadata": {},
   "outputs": [],
   "source": [
    "synsets = wn.all_synsets(type)"
   ]
  },
  {
   "cell_type": "code",
   "execution_count": 11,
   "metadata": {},
   "outputs": [],
   "source": [
    "lemmas = []\n",
    "for synset in synsets:\n",
    "    for lemma in synset.lemmas():\n",
    "        lemmas.append(lemma.name())"
   ]
  },
  {
   "cell_type": "code",
   "execution_count": 17,
   "metadata": {},
   "outputs": [],
   "source": [
    "# Remove unique lemmas.\n",
    "lemmas = set(lemmas)"
   ]
  },
  {
   "cell_type": "code",
   "execution_count": 16,
   "metadata": {},
   "outputs": [],
   "source": [
    "count = 0\n",
    "for lemma in lemmas:\n",
    "    count += len(wn.synsets(lemma, type))"
   ]
  },
  {
   "cell_type": "code",
   "execution_count": 19,
   "metadata": {},
   "outputs": [
    {
     "name": "stdout",
     "output_type": "stream",
     "text": [
      "Total distinct lemmas: 119034\n",
      "Total senses: 152763\n",
      "Average Polysemy of n: 1.2833560159282222\n"
     ]
    }
   ],
   "source": [
    "print('Total distinct lemmas:', len(lemmas))\n",
    "print('Total senses:', count)\n",
    "print(f'Average Polysemy of {type}: {count/len(lemmas)}')"
   ]
  },
  {
   "cell_type": "code",
   "execution_count": null,
   "metadata": {},
   "outputs": [],
   "source": []
  }
 ],
 "metadata": {
  "kernelspec": {
   "display_name": "Python 3",
   "language": "python",
   "name": "python3"
  },
  "language_info": {
   "codemirror_mode": {
    "name": "ipython",
    "version": 3
   },
   "file_extension": ".py",
   "mimetype": "text/x-python",
   "name": "python",
   "nbconvert_exporter": "python",
   "pygments_lexer": "ipython3",
   "version": "3.7.3"
  }
 },
 "nbformat": 4,
 "nbformat_minor": 4
}
