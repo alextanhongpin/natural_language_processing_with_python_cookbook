{
 "cells": [
  {
   "cell_type": "markdown",
   "metadata": {},
   "source": [
    "# Question and Answers\n",
    "\n",
    "This example shows how to use deep RNN to create model to work on a question-answer-system based on episodic memory.\n",
    "\n",
    "\n",
    "References: \n",
    "- http://www.thespermwhale.com/jaseweston/babi/tasks_1-20_v1-2.tar.gz \n",
    "- https://research.fb.com/downloads/babi/"
   ]
  },
  {
   "cell_type": "code",
   "execution_count": 32,
   "metadata": {},
   "outputs": [],
   "source": [
    "from __future__ import division, print_function\n",
    "import collections\n",
    "import itertools\n",
    "import nltk\n",
    "import numpy as np\n",
    "import matplotlib.pyplot as plt\n",
    "import os\n",
    "import random"
   ]
  },
  {
   "cell_type": "code",
   "execution_count": 33,
   "metadata": {},
   "outputs": [],
   "source": [
    "def get_data(infile):\n",
    "    stories, questions, answers = [], [], []\n",
    "    story_text = []\n",
    "    \n",
    "    with open(infile) as f:\n",
    "        for line in f:\n",
    "            line = line.strip()\n",
    "            lno, text = line.split(' ', 1)\n",
    "            if '\\t' in text:\n",
    "                question, answer, _ = text.split('\\t')\n",
    "                stories.append(story_text)\n",
    "                questions.append(question)\n",
    "                answers.append(answer)\n",
    "                story_text = []\n",
    "            else:\n",
    "                story_text.append(text)\n",
    "                \n",
    "    return stories, questions, answers"
   ]
  },
  {
   "cell_type": "code",
   "execution_count": 100,
   "metadata": {},
   "outputs": [],
   "source": [
    "data_train = get_data('./tasks_1-20_v1-2/en-10k/qa1_single-supporting-fact_train.txt')\n",
    "data_test = get_data('./tasks_1-20_v1-2/en-10k/qa1_single-supporting-fact_test.txt')"
   ]
  },
  {
   "cell_type": "code",
   "execution_count": 35,
   "metadata": {},
   "outputs": [
    {
     "name": "stdout",
     "output_type": "stream",
     "text": [
      "Train observations: 10000\n",
      "Test observations: 1000\n"
     ]
    }
   ],
   "source": [
    "print('Train observations:', len(data_train[0]))\n",
    "print('Test observations:', len(data_test[0]))"
   ]
  },
  {
   "cell_type": "code",
   "execution_count": 93,
   "metadata": {},
   "outputs": [],
   "source": [
    "# Building vocab dictionary from train and test data.\n",
    "dictionary = collections.Counter()\n",
    "\n",
    "for stories, questions, answers in [data_train, data_test]:\n",
    "    for story in stories:\n",
    "        for sent in story:\n",
    "            for word in nltk.word_tokenize(sent):\n",
    "                dictionary[word.lower()] += 1\n",
    "    \n",
    "    for question in questions:\n",
    "        for word in nltk.word_tokenize(question):\n",
    "            dictionary[word.lower()] += 1\n",
    "    \n",
    "    for answer in answers:\n",
    "        for word in nltk.word_tokenize(answer):\n",
    "            dictionary[word.lower()] += 1"
   ]
  },
  {
   "cell_type": "code",
   "execution_count": 37,
   "metadata": {},
   "outputs": [],
   "source": [
    "word2idx = {w: (i+1) for i, (w, _) in enumerate(dictionary.most_common())}\n",
    "word2idx['PAD'] = 0\n",
    "idx2word = {v:k for k, v in word2idx.items()}"
   ]
  },
  {
   "cell_type": "code",
   "execution_count": 121,
   "metadata": {},
   "outputs": [
    {
     "data": {
      "text/plain": [
       "22"
      ]
     },
     "execution_count": 121,
     "metadata": {},
     "output_type": "execute_result"
    }
   ],
   "source": [
    "vocab_size = len(word2idx)\n",
    "vocab_size"
   ]
  },
  {
   "cell_type": "code",
   "execution_count": 142,
   "metadata": {},
   "outputs": [
    {
     "name": "stdout",
     "output_type": "stream",
     "text": [
      "Story maximum length: 14, question maximum length: 4\n"
     ]
    }
   ],
   "source": [
    "# Compute max sequence length for each entity.\n",
    "story_maxlen = 0\n",
    "question_maxlen = 0\n",
    "\n",
    "for stories, questions, answers in [data_train, data_test]:\n",
    "    for story in stories:\n",
    "        story_len = 0\n",
    "\n",
    "        for sent in story:\n",
    "            swords = nltk.word_tokenize(sent)\n",
    "            story_len += len(swords)\n",
    "\n",
    "        if story_len > story_maxlen:\n",
    "            story_maxlen = story_len\n",
    "\n",
    "    for question in questions:\n",
    "\n",
    "        question_len = len(nltk.word_tokenize(question))\n",
    "        if question_len > question_maxlen:\n",
    "            question_maxlen = question_len\n",
    "\n",
    "print('Story maximum length: {}, question maximum length: {}'.format(story_maxlen, question_maxlen))"
   ]
  },
  {
   "cell_type": "code",
   "execution_count": 143,
   "metadata": {},
   "outputs": [],
   "source": [
    "from keras.layers import Input\n",
    "from keras.layers.core import Activation, Dense, Dropout, Permute\n",
    "from keras.layers.embeddings import Embedding\n",
    "from keras.layers.merge import add, concatenate, dot\n",
    "from keras.layers.recurrent import LSTM\n",
    "from keras.models import Model\n",
    "from keras.preprocessing.sequence import pad_sequences\n",
    "from keras.utils import np_utils"
   ]
  },
  {
   "cell_type": "code",
   "execution_count": 145,
   "metadata": {},
   "outputs": [],
   "source": [
    "# Converting data into vectorized form.\n",
    "def data_vectorization(data, word2idx, story_maxlen, question_maxlen):\n",
    "    Xs, Xq, Y = [], [], []\n",
    "    stories, questions, answers = data\n",
    "    \n",
    "    for story, question, answer in zip(stories, questions, answers):\n",
    "        xs = [[word2idx[w.lower()] for w in nltk.word_tokenize(s)] \n",
    "             for s in story]\n",
    "        xs = list(itertools.chain.from_iterable(xs))\n",
    "        \n",
    "        xq = [word2idx[w.lower()] for w in nltk.word_tokenize(question)]\n",
    "        Xs.append(xs)\n",
    "        Xq.append(xq)\n",
    "        Y.append(word2idx[answer.lower()])\n",
    "    \n",
    "    return pad_sequences(Xs, maxlen=story_maxlen), \\\n",
    "           pad_sequences(Xq, maxlen=question_maxlen), \\\n",
    "           np_utils.to_categorical(Y, num_classes=len(word2idx))"
   ]
  },
  {
   "cell_type": "code",
   "execution_count": 146,
   "metadata": {},
   "outputs": [
    {
     "name": "stdout",
     "output_type": "stream",
     "text": [
      "Train story: (10000, 14)\n",
      "Train question: (10000, 4)\n",
      "Train answer: (10000, 22)\n",
      "Test story: (1000, 14)\n",
      "Test question: (1000, 4)\n",
      "Test answer: (1000, 22)\n"
     ]
    }
   ],
   "source": [
    "Xstrain, Xqtrain, Ytrain = data_vectorization(data_train, word2idx, story_maxlen, question_maxlen)\n",
    "Xstest, Xqtest, Ytest = data_vectorization(data_test, word2idx, story_maxlen, question_maxlen)\n",
    "\n",
    "print('Train story:', Xstrain.shape)\n",
    "print('Train question:', Xqtrain.shape)\n",
    "print('Train answer:', Ytrain.shape)\n",
    "\n",
    "print('Test story:', Xstest.shape)\n",
    "print('Test question:', Xqtest.shape)\n",
    "print('Test answer:', Ytest.shape)"
   ]
  },
  {
   "cell_type": "code",
   "execution_count": 147,
   "metadata": {},
   "outputs": [],
   "source": [
    "# Model parameters.\n",
    "EMBEDDING_SIZE = 128\n",
    "LATENT_SIZE = 64\n",
    "BATCH_SIZE = 64\n",
    "NUM_EPOCHS = 40"
   ]
  },
  {
   "cell_type": "code",
   "execution_count": 148,
   "metadata": {},
   "outputs": [],
   "source": [
    "# Inputs.\n",
    "story_input = Input(shape=(story_maxlen,))\n",
    "question_input = Input(shape=(question_maxlen,))"
   ]
  },
  {
   "cell_type": "code",
   "execution_count": 149,
   "metadata": {},
   "outputs": [],
   "source": [
    "# Story encoder embedding.\n",
    "story_encoder = Embedding(input_dim=vocab_size,\n",
    "                         output_dim=EMBEDDING_SIZE,\n",
    "                         input_length=story_maxlen)(story_input)\n",
    "story_encoder = Dropout(0.2)(story_encoder)"
   ]
  },
  {
   "cell_type": "code",
   "execution_count": 150,
   "metadata": {},
   "outputs": [],
   "source": [
    "# Question encoder embedding.\n",
    "question_encoder = Embedding(input_dim=vocab_size,\n",
    "                            output_dim=EMBEDDING_SIZE,\n",
    "                            input_length=question_maxlen)(question_input)\n",
    "question_encoder = Dropout(0.3)(question_encoder)"
   ]
  },
  {
   "cell_type": "code",
   "execution_count": 151,
   "metadata": {},
   "outputs": [],
   "source": [
    "# Match between story and question.\n",
    "match = dot([story_encoder, question_encoder], axes=[2, 2])"
   ]
  },
  {
   "cell_type": "code",
   "execution_count": 152,
   "metadata": {},
   "outputs": [],
   "source": [
    "# Encode story into vector space of question.\n",
    "story_encoder_c = Embedding(input_dim=vocab_size, \n",
    "                            output_dim=question_maxlen, \n",
    "                            input_length=story_maxlen)(story_input)\n",
    "story_encoder_c = Dropout(0.3)(story_encoder_c)"
   ]
  },
  {
   "cell_type": "code",
   "execution_count": 153,
   "metadata": {},
   "outputs": [],
   "source": [
    "# Combine match and story vectors.\n",
    "response = add([match, story_encoder_c])\n",
    "response = Permute((2, 1))(response)"
   ]
  },
  {
   "cell_type": "code",
   "execution_count": 154,
   "metadata": {},
   "outputs": [
    {
     "name": "stdout",
     "output_type": "stream",
     "text": [
      "Model: \"functional_11\"\n",
      "__________________________________________________________________________________________________\n",
      "Layer (type)                    Output Shape         Param #     Connected to                     \n",
      "==================================================================================================\n",
      "input_9 (InputLayer)            [(None, 14)]         0                                            \n",
      "__________________________________________________________________________________________________\n",
      "input_10 (InputLayer)           [(None, 4)]          0                                            \n",
      "__________________________________________________________________________________________________\n",
      "embedding_14 (Embedding)        (None, 14, 128)      2816        input_9[0][0]                    \n",
      "__________________________________________________________________________________________________\n",
      "embedding_15 (Embedding)        (None, 4, 128)       2816        input_10[0][0]                   \n",
      "__________________________________________________________________________________________________\n",
      "dropout_19 (Dropout)            (None, 14, 128)      0           embedding_14[0][0]               \n",
      "__________________________________________________________________________________________________\n",
      "dropout_20 (Dropout)            (None, 4, 128)       0           embedding_15[0][0]               \n",
      "__________________________________________________________________________________________________\n",
      "embedding_16 (Embedding)        (None, 14, 4)        88          input_9[0][0]                    \n",
      "__________________________________________________________________________________________________\n",
      "dot_4 (Dot)                     (None, 14, 4)        0           dropout_19[0][0]                 \n",
      "                                                                 dropout_20[0][0]                 \n",
      "__________________________________________________________________________________________________\n",
      "dropout_21 (Dropout)            (None, 14, 4)        0           embedding_16[0][0]               \n",
      "__________________________________________________________________________________________________\n",
      "add_5 (Add)                     (None, 14, 4)        0           dot_4[0][0]                      \n",
      "                                                                 dropout_21[0][0]                 \n",
      "__________________________________________________________________________________________________\n",
      "permute_5 (Permute)             (None, 4, 14)        0           add_5[0][0]                      \n",
      "__________________________________________________________________________________________________\n",
      "concatenate_5 (Concatenate)     (None, 4, 142)       0           permute_5[0][0]                  \n",
      "                                                                 dropout_20[0][0]                 \n",
      "__________________________________________________________________________________________________\n",
      "lstm_5 (LSTM)                   (None, 64)           52992       concatenate_5[0][0]              \n",
      "__________________________________________________________________________________________________\n",
      "dropout_22 (Dropout)            (None, 64)           0           lstm_5[0][0]                     \n",
      "__________________________________________________________________________________________________\n",
      "dense_5 (Dense)                 (None, 22)           1430        dropout_22[0][0]                 \n",
      "__________________________________________________________________________________________________\n",
      "activation_5 (Activation)       (None, 22)           0           dense_5[0][0]                    \n",
      "==================================================================================================\n",
      "Total params: 60,142\n",
      "Trainable params: 60,142\n",
      "Non-trainable params: 0\n",
      "__________________________________________________________________________________________________\n"
     ]
    }
   ],
   "source": [
    "# Combine response and question vectors to answers space.\n",
    "answer = concatenate([response, question_encoder], axis=-1)\n",
    "answer = LSTM(LATENT_SIZE)(answer)\n",
    "answer = Dropout(0.2)(answer)\n",
    "answer = Dense(vocab_size)(answer)\n",
    "\n",
    "output = Activation('softmax')(answer)\n",
    "\n",
    "model = Model(inputs=[story_input, question_input], outputs=output)\n",
    "model.compile(optimizer='adam', loss='categorical_crossentropy', metrics=['accuracy'])\n",
    "model.summary()"
   ]
  },
  {
   "cell_type": "code",
   "execution_count": 155,
   "metadata": {},
   "outputs": [
    {
     "name": "stdout",
     "output_type": "stream",
     "text": [
      "Epoch 1/40\n",
      "157/157 [==============================] - 2s 15ms/step - loss: 2.0418 - accuracy: 0.1701 - val_loss: 1.7559 - val_accuracy: 0.2750\n",
      "Epoch 2/40\n",
      "157/157 [==============================] - 2s 10ms/step - loss: 1.6886 - accuracy: 0.2887 - val_loss: 1.6568 - val_accuracy: 0.3480\n",
      "Epoch 3/40\n",
      "157/157 [==============================] - 1s 8ms/step - loss: 1.5580 - accuracy: 0.4067 - val_loss: 1.4784 - val_accuracy: 0.4970\n",
      "Epoch 4/40\n",
      "157/157 [==============================] - 1s 8ms/step - loss: 1.4243 - accuracy: 0.4959 - val_loss: 1.3877 - val_accuracy: 0.5190\n",
      "Epoch 5/40\n",
      "157/157 [==============================] - 1s 9ms/step - loss: 1.3484 - accuracy: 0.5193 - val_loss: 1.3189 - val_accuracy: 0.5300\n",
      "Epoch 6/40\n",
      "157/157 [==============================] - 1s 8ms/step - loss: 1.2896 - accuracy: 0.5246 - val_loss: 1.2803 - val_accuracy: 0.5400\n",
      "Epoch 7/40\n",
      "157/157 [==============================] - 1s 9ms/step - loss: 1.2432 - accuracy: 0.5401 - val_loss: 1.2222 - val_accuracy: 0.5670\n",
      "Epoch 8/40\n",
      "157/157 [==============================] - 1s 8ms/step - loss: 1.1083 - accuracy: 0.6443 - val_loss: 0.9459 - val_accuracy: 0.7380\n",
      "Epoch 9/40\n",
      "157/157 [==============================] - 1s 8ms/step - loss: 0.7668 - accuracy: 0.7723 - val_loss: 0.6525 - val_accuracy: 0.7540\n",
      "Epoch 10/40\n",
      "157/157 [==============================] - 1s 8ms/step - loss: 0.5821 - accuracy: 0.7844 - val_loss: 0.5696 - val_accuracy: 0.7540\n",
      "Epoch 11/40\n",
      "157/157 [==============================] - 1s 8ms/step - loss: 0.5301 - accuracy: 0.7853 - val_loss: 0.5487 - val_accuracy: 0.7620\n",
      "Epoch 12/40\n",
      "157/157 [==============================] - 2s 11ms/step - loss: 0.5066 - accuracy: 0.7895 - val_loss: 0.5397 - val_accuracy: 0.7450\n",
      "Epoch 13/40\n",
      "157/157 [==============================] - 1s 10ms/step - loss: 0.4933 - accuracy: 0.7886 - val_loss: 0.5343 - val_accuracy: 0.7670\n",
      "Epoch 14/40\n",
      "157/157 [==============================] - 2s 10ms/step - loss: 0.4889 - accuracy: 0.7863 - val_loss: 0.5363 - val_accuracy: 0.7480\n",
      "Epoch 15/40\n",
      "157/157 [==============================] - 2s 11ms/step - loss: 0.4801 - accuracy: 0.7897 - val_loss: 0.5417 - val_accuracy: 0.7510\n",
      "Epoch 16/40\n",
      "157/157 [==============================] - 1s 9ms/step - loss: 0.4768 - accuracy: 0.7890 - val_loss: 0.5311 - val_accuracy: 0.7620\n",
      "Epoch 17/40\n",
      "157/157 [==============================] - 1s 8ms/step - loss: 0.4739 - accuracy: 0.7922 - val_loss: 0.5340 - val_accuracy: 0.7460\n",
      "Epoch 18/40\n",
      "157/157 [==============================] - 1s 8ms/step - loss: 0.4690 - accuracy: 0.7915 - val_loss: 0.5310 - val_accuracy: 0.7620\n",
      "Epoch 19/40\n",
      "157/157 [==============================] - 1s 8ms/step - loss: 0.4666 - accuracy: 0.7965 - val_loss: 0.5309 - val_accuracy: 0.7590\n",
      "Epoch 20/40\n",
      "157/157 [==============================] - 1s 8ms/step - loss: 0.4648 - accuracy: 0.7963 - val_loss: 0.5344 - val_accuracy: 0.7580\n",
      "Epoch 21/40\n",
      "157/157 [==============================] - 1s 9ms/step - loss: 0.4625 - accuracy: 0.7966 - val_loss: 0.5359 - val_accuracy: 0.7550\n",
      "Epoch 22/40\n",
      "157/157 [==============================] - 1s 8ms/step - loss: 0.4629 - accuracy: 0.7949 - val_loss: 0.5333 - val_accuracy: 0.7660\n",
      "Epoch 23/40\n",
      "157/157 [==============================] - 1s 8ms/step - loss: 0.4604 - accuracy: 0.7991 - val_loss: 0.5360 - val_accuracy: 0.7510\n",
      "Epoch 24/40\n",
      "157/157 [==============================] - 1s 9ms/step - loss: 0.4581 - accuracy: 0.7986 - val_loss: 0.5328 - val_accuracy: 0.7620\n",
      "Epoch 25/40\n",
      "157/157 [==============================] - 1s 8ms/step - loss: 0.4575 - accuracy: 0.8030 - val_loss: 0.5324 - val_accuracy: 0.7660\n",
      "Epoch 26/40\n",
      "157/157 [==============================] - 2s 10ms/step - loss: 0.4564 - accuracy: 0.7997 - val_loss: 0.5356 - val_accuracy: 0.7580\n",
      "Epoch 27/40\n",
      "157/157 [==============================] - 1s 9ms/step - loss: 0.4539 - accuracy: 0.8034 - val_loss: 0.5333 - val_accuracy: 0.7590\n",
      "Epoch 28/40\n",
      "157/157 [==============================] - 1s 8ms/step - loss: 0.4526 - accuracy: 0.8052 - val_loss: 0.5337 - val_accuracy: 0.7600\n",
      "Epoch 29/40\n",
      "157/157 [==============================] - 1s 8ms/step - loss: 0.4521 - accuracy: 0.8056 - val_loss: 0.5340 - val_accuracy: 0.7530\n",
      "Epoch 30/40\n",
      "157/157 [==============================] - 1s 8ms/step - loss: 0.4488 - accuracy: 0.8080 - val_loss: 0.5359 - val_accuracy: 0.7630\n",
      "Epoch 31/40\n",
      "157/157 [==============================] - 2s 11ms/step - loss: 0.4474 - accuracy: 0.8118 - val_loss: 0.5356 - val_accuracy: 0.7630\n",
      "Epoch 32/40\n",
      "157/157 [==============================] - 2s 11ms/step - loss: 0.4466 - accuracy: 0.8063 - val_loss: 0.5405 - val_accuracy: 0.7660\n",
      "Epoch 33/40\n",
      "157/157 [==============================] - 1s 9ms/step - loss: 0.4442 - accuracy: 0.8110 - val_loss: 0.5443 - val_accuracy: 0.7630\n",
      "Epoch 34/40\n",
      "157/157 [==============================] - 1s 8ms/step - loss: 0.4432 - accuracy: 0.8097 - val_loss: 0.5400 - val_accuracy: 0.7680\n",
      "Epoch 35/40\n",
      "157/157 [==============================] - 2s 12ms/step - loss: 0.4414 - accuracy: 0.8107 - val_loss: 0.5505 - val_accuracy: 0.7580\n",
      "Epoch 36/40\n",
      "157/157 [==============================] - 2s 11ms/step - loss: 0.4379 - accuracy: 0.8151 - val_loss: 0.5449 - val_accuracy: 0.7660\n",
      "Epoch 37/40\n",
      "157/157 [==============================] - 3s 18ms/step - loss: 0.4360 - accuracy: 0.8182 - val_loss: 0.5491 - val_accuracy: 0.7660\n",
      "Epoch 38/40\n",
      "157/157 [==============================] - 3s 19ms/step - loss: 0.4335 - accuracy: 0.8190 - val_loss: 0.5556 - val_accuracy: 0.7580\n",
      "Epoch 39/40\n",
      "157/157 [==============================] - 2s 15ms/step - loss: 0.4337 - accuracy: 0.8163 - val_loss: 0.5551 - val_accuracy: 0.7600\n",
      "Epoch 40/40\n",
      "157/157 [==============================] - 2s 13ms/step - loss: 0.4327 - accuracy: 0.8136 - val_loss: 0.5493 - val_accuracy: 0.7610\n"
     ]
    }
   ],
   "source": [
    "Xstrain = np.array(Xstrain)\n",
    "Xqtrain = np.array(Xqtrain)\n",
    "Ytrain = np.array(Ytrain)\n",
    "# Model training.\n",
    "history = model.fit((Xstrain, Xqtrain), Ytrain,\n",
    "                    batch_size=BATCH_SIZE,\n",
    "                    epochs=NUM_EPOCHS,\n",
    "                    validation_data=((Xstest, Xqtest), Ytest))"
   ]
  },
  {
   "cell_type": "code",
   "execution_count": 156,
   "metadata": {},
   "outputs": [
    {
     "data": {
      "image/png": "[encoded data removed]",
      "text/plain": [
       "<Figure size 432x288 with 1 Axes>"
      ]
     },
     "metadata": {
      "needs_background": "light"
     },
     "output_type": "display_data"
    }
   ],
   "source": [
    "# Plot accuracy and loss plot.\n",
    "plt.title('Accuracy')\n",
    "plt.plot(history.history['accuracy'], color='g', label='train')\n",
    "plt.plot(history.history['val_accuracy'], color='r', label='validation')\n",
    "plt.legend(loc='best')\n",
    "plt.show()"
   ]
  },
  {
   "cell_type": "code",
   "execution_count": 157,
   "metadata": {},
   "outputs": [],
   "source": [
    "# Get predictions of labels.\n",
    "ytest = np.argmax(Ytest, axis=1)\n",
    "Ytest_pred = model.predict([Xstest, Xqtest])"
   ]
  },
  {
   "cell_type": "code",
   "execution_count": 158,
   "metadata": {},
   "outputs": [],
   "source": [
    "ytest_pred = np.argmax(Ytest_pred, axis=1)"
   ]
  },
  {
   "cell_type": "code",
   "execution_count": 159,
   "metadata": {},
   "outputs": [],
   "source": [
    "# Select random questions and predict answers.\n",
    "NUM_DISPLAY = 10"
   ]
  },
  {
   "cell_type": "code",
   "execution_count": 161,
   "metadata": {},
   "outputs": [
    {
     "name": "stdout",
     "output_type": "stream",
     "text": [
      "Story: mary moved to the bathroom . mary travelled to the office .\n",
      "Question: where is mary ?\n",
      "Label: office\n",
      "Prediction: office\n",
      "\n",
      "Story: john journeyed to the garden . john journeyed to the office .\n",
      "Question: where is john ?\n",
      "Label: office\n",
      "Prediction: office\n",
      "\n",
      "Story: john moved to the bathroom . sandra travelled to the kitchen .\n",
      "Question: where is sandra ?\n",
      "Label: kitchen\n",
      "Prediction: kitchen\n",
      "\n",
      "Story: john moved to the bedroom . mary travelled to the bathroom .\n",
      "Question: where is mary ?\n",
      "Label: bathroom\n",
      "Prediction: bathroom\n",
      "\n",
      "Story: sandra journeyed to the office . daniel went back to the hallway .\n",
      "Question: where is daniel ?\n",
      "Label: hallway\n",
      "Prediction: hallway\n",
      "\n",
      "Story: mary went to the bathroom . john went to the bathroom .\n",
      "Question: where is mary ?\n",
      "Label: bathroom\n",
      "Prediction: bathroom\n",
      "\n",
      "Story: sandra went to the office . sandra travelled to the bathroom .\n",
      "Question: where is sandra ?\n",
      "Label: bathroom\n",
      "Prediction: bathroom\n",
      "\n",
      "Story: john journeyed to the bedroom . daniel went back to the kitchen .\n",
      "Question: where is daniel ?\n",
      "Label: kitchen\n",
      "Prediction: kitchen\n",
      "\n",
      "Story: sandra went back to the bathroom . daniel journeyed to the kitchen .\n",
      "Question: where is daniel ?\n",
      "Label: kitchen\n",
      "Prediction: kitchen\n",
      "\n",
      "Story: sandra journeyed to the kitchen . daniel went back to the hallway .\n",
      "Question: where is daniel ?\n",
      "Label: hallway\n",
      "Prediction: hallway\n",
      "\n"
     ]
    }
   ],
   "source": [
    "for i in random.sample(range(Xstest.shape[0]), NUM_DISPLAY):\n",
    "    story = ' '.join([idx2word[x] for x in Xstest[i].tolist() if x != 0])\n",
    "    question = ' '.join([idx2word[x] for x in Xqtest[i].tolist()])\n",
    "    label = idx2word[ytest[i]]\n",
    "    prediction = idx2word[ytest_pred[i]]\n",
    "    print('Story:', story)\n",
    "    print('Question:', question)\n",
    "    print('Label:', label)\n",
    "    print('Prediction:', prediction)\n",
    "    print()"
   ]
  }
 ],
 "metadata": {
  "kernelspec": {
   "display_name": "Python 3",
   "language": "python",
   "name": "python3"
  },
  "language_info": {
   "codemirror_mode": {
    "name": "ipython",
    "version": 3
   },
   "file_extension": ".py",
   "mimetype": "text/x-python",
   "name": "python",
   "nbconvert_exporter": "python",
   "pygments_lexer": "ipython3",
   "version": "3.8.5"
  }
 },
 "nbformat": 4,
 "nbformat_minor": 4
}
