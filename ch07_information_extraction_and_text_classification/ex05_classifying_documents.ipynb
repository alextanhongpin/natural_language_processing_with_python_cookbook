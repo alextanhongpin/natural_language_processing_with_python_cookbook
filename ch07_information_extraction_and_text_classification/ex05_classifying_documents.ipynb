{
 "cells": [
  {
   "cell_type": "markdown",
   "metadata": {},
   "source": [
    "## Classifying Documents\n",
    "\n",
    "This example demonstrates how to write a classifier that is able to classify documents"
   ]
  },
  {
   "cell_type": "code",
   "execution_count": 1,
   "metadata": {},
   "outputs": [],
   "source": [
    "import nltk\n",
    "import random\n",
    "import feedparser"
   ]
  },
  {
   "cell_type": "code",
   "execution_count": 3,
   "metadata": {},
   "outputs": [],
   "source": [
    "urls = {\n",
    "    'mlb': 'https://sports.yahoo.com/mlb/rss.xml',\n",
    "    'nfl': 'https://sports.yahoo.com/nfl/rss.xml'\n",
    "}"
   ]
  },
  {
   "cell_type": "code",
   "execution_count": 5,
   "metadata": {},
   "outputs": [],
   "source": [
    "feedmap = {}\n",
    "stopwords = set(nltk.corpus.stopwords.words('english'))"
   ]
  },
  {
   "cell_type": "code",
   "execution_count": 6,
   "metadata": {},
   "outputs": [],
   "source": [
    "def feature_extractor(words):\n",
    "    features = {}\n",
    "    for word in words:\n",
    "        if word not in stopwords:\n",
    "            features[f\"word({word})\"] = True\n",
    "    return features"
   ]
  },
  {
   "cell_type": "code",
   "execution_count": 7,
   "metadata": {},
   "outputs": [
    {
     "name": "stdout",
     "output_type": "stream",
     "text": [
      "downloading https://sports.yahoo.com/mlb/rss.xml\n",
      "downloading https://sports.yahoo.com/nfl/rss.xml\n"
     ]
    }
   ],
   "source": [
    "sentences = []\n",
    "\n",
    "for category in urls.keys():\n",
    "    feedmap[category] = feedparser.parse(urls[category])\n",
    "    print('downloading {}'.format(urls[category]))\n",
    "    for entry in feedmap[category]['entries']:\n",
    "        data = entry['summary']\n",
    "        words = data.split()\n",
    "        sentences.append((category, words))"
   ]
  },
  {
   "cell_type": "code",
   "execution_count": 9,
   "metadata": {},
   "outputs": [],
   "source": [
    "feature_sets = [(feature_extractor(words), category)\n",
    "               for category, words in sentences]\n",
    "random.shuffle(feature_sets)"
   ]
  },
  {
   "cell_type": "code",
   "execution_count": 10,
   "metadata": {},
   "outputs": [],
   "source": [
    "total = len(feature_sets)\n",
    "off = total // 2\n",
    "trainset = feature_sets[off:]\n",
    "testset = feature_sets[:off]\n",
    "\n",
    "classifier = nltk.NaiveBayesClassifier.train(trainset)"
   ]
  },
  {
   "cell_type": "code",
   "execution_count": 11,
   "metadata": {},
   "outputs": [
    {
     "data": {
      "text/plain": [
       "0.9019607843137255"
      ]
     },
     "execution_count": 11,
     "metadata": {},
     "output_type": "execute_result"
    }
   ],
   "source": [
    "nltk.classify.accuracy(classifier, testset)"
   ]
  },
  {
   "cell_type": "code",
   "execution_count": 12,
   "metadata": {},
   "outputs": [
    {
     "name": "stdout",
     "output_type": "stream",
     "text": [
      "Most Informative Features\n",
      "              word(list) = True              nfl : mlb    =      5.9 : 1.0\n",
      "              word(home) = True              mlb : nfl    =      4.8 : 1.0\n",
      "              word(back) = True              nfl : mlb    =      4.5 : 1.0\n",
      "              word(team) = True              nfl : mlb    =      4.5 : 1.0\n",
      "            word(player) = True              nfl : mlb    =      3.8 : 1.0\n",
      "nfl -> Doug Pederson is the second coach in the league known to have contracted the coronavirus. Saints coach Sean Payton tested positive in March.\n",
      "nfl -> It looks like the Raiders have added a veteran running back to their mix. Jeremy Hill tweeted Sunday morning \"I'm a Raider.\" NFL Media's Ian Rapoport reported Friday that the Raiders hosted Hill for a workout and planned to sign the running back.\n",
      "mlb -> The Vikings are nearing completion on a multiyear deal for General Manager Rick Spielman, Tom Pelissero of NFL Media reports Sunday night. The move was expected after coach Mike Zimmer recently signed a three-year extension that runs through 2023. Spielman, like Zimmer before his new deal, had one year remaining on his current deal. It [more]\n",
      "nfl -> The Chicago Bears shed some depth at running back in an effort to get to the 80-man training camp roster.\n"
     ]
    }
   ],
   "source": [
    "classifier.show_most_informative_features(5)\n",
    "for i, entry in enumerate(feedmap['nfl']['entries']):\n",
    "    if i < 4:\n",
    "        features = feature_extractor(entry['title'].split())\n",
    "        category = classifier.classify(features)\n",
    "        print('{} -> {}'.format(category, entry['summary']))"
   ]
  }
 ],
 "metadata": {
  "kernelspec": {
   "display_name": "Python 3",
   "language": "python",
   "name": "python3"
  },
  "language_info": {
   "codemirror_mode": {
    "name": "ipython",
    "version": 3
   },
   "file_extension": ".py",
   "mimetype": "text/x-python",
   "name": "python",
   "nbconvert_exporter": "python",
   "pygments_lexer": "ipython3",
   "version": "3.7.3"
  }
 },
 "nbformat": 4,
 "nbformat_minor": 4
}
