{
 "cells": [
  {
   "cell_type": "markdown",
   "metadata": {},
   "source": [
    "# Context Tagger\n",
    "\n",
    "This example demonstrates how to write a POS tagger with context."
   ]
  },
  {
   "cell_type": "code",
   "execution_count": 1,
   "metadata": {},
   "outputs": [],
   "source": [
    "import nltk"
   ]
  },
  {
   "cell_type": "code",
   "execution_count": 2,
   "metadata": {},
   "outputs": [],
   "source": [
    "sentences = [\"What is your address when you're in Singapore?\",\n",
    "            \"the president's address on the state of the economy\",\n",
    "            \"He addressed his remarks to the laywers in the audience.\",\n",
    "            \"In order ot address an assembly, we should be ready\",\n",
    "            \"He laughed inwardly at the scene.\",\n",
    "            \"After all the advance publicity, the prizefight turned out to be a laugh.\",\n",
    "            \"we can learn to laugh a little at even our most serious issues\"]\n"
   ]
  },
  {
   "cell_type": "code",
   "execution_count": 3,
   "metadata": {},
   "outputs": [],
   "source": [
    "def get_words():\n",
    "    words = []\n",
    "    for sent in sentences:\n",
    "        words.append(nltk.pos_tag(nltk.word_tokenize(sent)))\n",
    "    return words"
   ]
  },
  {
   "cell_type": "code",
   "execution_count": 4,
   "metadata": {},
   "outputs": [],
   "source": [
    "def no_context_tagger():\n",
    "    tagger = nltk.UnigramTagger(get_words())\n",
    "    return tagger.tag('the little remarks towards assembly are laughable'.split())"
   ]
  },
  {
   "cell_type": "code",
   "execution_count": 8,
   "metadata": {},
   "outputs": [],
   "source": [
    "def with_context_tagger():\n",
    "    def word_features(words, word_pos_in_sentence):\n",
    "        # Extract all the ing etc forms.\n",
    "        end_features = {\n",
    "            'last(1)': words[word_pos_in_sentence][-1],\n",
    "            'last(2)': words[word_pos_in_sentence][-2:],\n",
    "            'last(3)': words[word_pos_in_sentence][-3:]\n",
    "        }\n",
    "        # Use previous word to determine if the current word is verb or noun.\n",
    "        if word_pos_in_sentence > 1:\n",
    "            end_features['prev'] = words[word_pos_in_sentence - 1]\n",
    "        else:\n",
    "            end_features['prev'] = '|NONE|'\n",
    "        return end_features\n",
    "    \n",
    "    all_sentences = get_words()\n",
    "    featured_data = []\n",
    "    for sent in all_sentences:\n",
    "        untagged_sent = nltk.tag.untag(sent)\n",
    "        featured_sent = [(word_features(untagged_sent, index), tag)\n",
    "                         for index, (word, tag) in enumerate(sent)]\n",
    "        featured_data.extend(featured_sent)\n",
    "    \n",
    "    breakup = len(featured_data) // 2\n",
    "    traindata = featured_data[breakup:]\n",
    "    testdata = featured_data[:breakup]\n",
    "    classifier = nltk.NaiveBayesClassifier.train(traindata)\n",
    "    print('Accuracy of the classifier: {}'.format(nltk.classify.accuracy(classifier, testdata)))"
   ]
  },
  {
   "cell_type": "code",
   "execution_count": 9,
   "metadata": {},
   "outputs": [
    {
     "data": {
      "text/plain": [
       "[('the', 'DT'),\n",
       " ('little', 'JJ'),\n",
       " ('remarks', 'NNS'),\n",
       " ('towards', None),\n",
       " ('assembly', 'NN'),\n",
       " ('are', None),\n",
       " ('laughable', None)]"
      ]
     },
     "execution_count": 9,
     "metadata": {},
     "output_type": "execute_result"
    }
   ],
   "source": [
    "no_context_tagger()"
   ]
  },
  {
   "cell_type": "code",
   "execution_count": 10,
   "metadata": {},
   "outputs": [
    {
     "name": "stdout",
     "output_type": "stream",
     "text": [
      "Accuracy of the classifier: 0.39473684210526316\n"
     ]
    }
   ],
   "source": [
    "with_context_tagger()"
   ]
  }
 ],
 "metadata": {
  "kernelspec": {
   "display_name": "Python 3",
   "language": "python",
   "name": "python3"
  },
  "language_info": {
   "codemirror_mode": {
    "name": "ipython",
    "version": 3
   },
   "file_extension": ".py",
   "mimetype": "text/x-python",
   "name": "python",
   "nbconvert_exporter": "python",
   "pygments_lexer": "ipython3",
   "version": "3.7.3"
  }
 },
 "nbformat": 4,
 "nbformat_minor": 4
}
