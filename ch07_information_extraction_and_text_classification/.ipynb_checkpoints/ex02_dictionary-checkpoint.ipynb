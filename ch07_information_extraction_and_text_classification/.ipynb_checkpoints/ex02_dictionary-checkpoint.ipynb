{
 "cells": [
  {
   "cell_type": "markdown",
   "metadata": {},
   "source": [
    "# Dictionary\n",
    "\n",
    "Using python dictionary to map the POS to words"
   ]
  },
  {
   "cell_type": "code",
   "execution_count": 1,
   "metadata": {},
   "outputs": [],
   "source": [
    "import nltk"
   ]
  },
  {
   "cell_type": "code",
   "execution_count": 4,
   "metadata": {},
   "outputs": [],
   "source": [
    "class LearningDictionary:\n",
    "    def __init__(self, sentence):\n",
    "        self.words = nltk.word_tokenize(sentence)\n",
    "        self.tagged = nltk.pos_tag(self.words)\n",
    "        self.build_dictionary()\n",
    "        self.build_reverse_dictionary()\n",
    "    \n",
    "    def build_dictionary(self):\n",
    "        self.dictionary = {}\n",
    "        for word, pos in self.tagged:\n",
    "            self.dictionary[word] = pos\n",
    "    \n",
    "    def build_reverse_dictionary(self):\n",
    "        self.rdictionary = {}\n",
    "        for key in self.dictionary.keys():\n",
    "            value = self.dictionary[key]\n",
    "            if value not in self.rdictionary:\n",
    "                self.rdictionary[value] = [key]\n",
    "            else:\n",
    "                self.rdictionary[value].append(key)\n",
    "    \n",
    "    def is_word_present(self, word):\n",
    "        return 'Yes' if word in self.dictionary else 'No'\n",
    "\n",
    "    def get_pos_for_word(self, word):\n",
    "        return self.dictionary[word] if word in self.dictionary else None\n",
    "    \n",
    "    def get_words_for_pos(self, pos):\n",
    "        return self.rdictionary[pos] if pos in self.rdictionary else None"
   ]
  },
  {
   "cell_type": "code",
   "execution_count": 10,
   "metadata": {},
   "outputs": [
    {
     "name": "stdout",
     "output_type": "stream",
     "text": [
      "chair present in dictionary? No\n",
      "flights present in dictionary? Yes\n",
      "delayed present in dictionary? Yes\n",
      "pencil present in dictionary? No\n",
      "weather present in dictionary? Yes\n",
      "\n",
      "POS NN has ['weather']\n",
      "POS VBS has None\n",
      "POS NNS has ['flights']\n"
     ]
    }
   ],
   "source": [
    "sentence = 'All the flights are delayed due to bad weather'\n",
    "learning = LearningDictionary(sentence)\n",
    "words = ['chair', 'flights', 'delayed', 'pencil', 'weather']\n",
    "pos = ['NN', 'VBS', 'NNS']\n",
    "\n",
    "for word in words:\n",
    "    status = learning.is_word_present(word)\n",
    "    print(f'{word} present in dictionary? {status}')\n",
    "    if status is True:\n",
    "        print(f'POS for {word} is {learning.get_pos_for_word(word)}')\n",
    "\n",
    "print()\n",
    "for pword in pos:\n",
    "    print(f'POS {pword} has {learning.get_words_for_pos(pword)}')"
   ]
  }
 ],
 "metadata": {
  "kernelspec": {
   "display_name": "Python 3",
   "language": "python",
   "name": "python3"
  },
  "language_info": {
   "codemirror_mode": {
    "name": "ipython",
    "version": 3
   },
   "file_extension": ".py",
   "mimetype": "text/x-python",
   "name": "python",
   "nbconvert_exporter": "python",
   "pygments_lexer": "ipython3",
   "version": "3.7.3"
  }
 },
 "nbformat": 4,
 "nbformat_minor": 4
}
