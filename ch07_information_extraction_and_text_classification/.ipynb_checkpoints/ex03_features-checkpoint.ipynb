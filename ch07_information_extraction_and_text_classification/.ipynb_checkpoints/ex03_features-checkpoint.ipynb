{
 "cells": [
  {
   "cell_type": "markdown",
   "metadata": {},
   "source": [
    "# Features\n",
    "\n",
    "This example demonstrates how to use a dictionary mapping to represent features.\n",
    "\n",
    "Features are clues within the language for easy tagging of the data we are dealing with.\n",
    "\n",
    "We use python dictionary, with the key representing the labels, and the values representing the clues extracted from input data."
   ]
  },
  {
   "cell_type": "code",
   "execution_count": 1,
   "metadata": {},
   "outputs": [],
   "source": [
    "import nltk\n",
    "import random\n",
    "\n",
    "data = [\n",
    "    ('KA-01-F 1034 A', 'rtc'),\n",
    "    ('KA-02-F 1030 B', 'rtc'),\n",
    "    ('KA-03-FA 1200 C', 'rtc'),\n",
    "    ('KA-01-G 0001 A', 'gov'),\n",
    "    ('KA-02-G 1004 A', 'gov'),\n",
    "    ('KA-03-G 0204 A', 'gov'),\n",
    "    ('KA-04-G 9230 A', 'gov'),\n",
    "    ('KA-27 1290', 'oth')\n",
    "]\n",
    "random.shuffle(data)\n",
    "test_data = [\n",
    "    'KA-01-G 0109',\n",
    "    'KA-02-F 9020 AC',\n",
    "    'KA-02-FA 0801',\n",
    "    'KA-01 9129'\n",
    "]"
   ]
  },
  {
   "cell_type": "code",
   "execution_count": 4,
   "metadata": {},
   "outputs": [],
   "source": [
    "def learn_simple_features():\n",
    "    def vehicle_number_feature(number):\n",
    "        return {'vehicle_class': number[6]}\n",
    "    \n",
    "    feature_sets = [(vehicle_number_feature(vn), cls) for vn, cls in data]\n",
    "    classifier = nltk.NaiveBayesClassifier.train(feature_sets)\n",
    "    for num in test_data:\n",
    "        feature = vehicle_number_feature(num)\n",
    "        print(f\"(simple) {num} is of type {classifier.classify(feature)}\")"
   ]
  },
  {
   "cell_type": "code",
   "execution_count": 5,
   "metadata": {},
   "outputs": [
    {
     "name": "stdout",
     "output_type": "stream",
     "text": [
      "(simple) KA-01-G 0109 is of type gov\n",
      "(simple) KA-02-F 9020 AC is of type rtc\n",
      "(simple) KA-02-FA 0801 is of type rtc\n",
      "(simple) KA-01 9129 is of type gov\n"
     ]
    }
   ],
   "source": [
    "learn_simple_features()"
   ]
  },
  {
   "cell_type": "code",
   "execution_count": 6,
   "metadata": {},
   "outputs": [],
   "source": [
    "def learn_features():\n",
    "    def vehicle_number_feature(number):\n",
    "        return {\n",
    "            'vehicle_class': number[6],\n",
    "            'vehicle_pre': number[5]\n",
    "        }\n",
    "\n",
    "    feature_sets = [(vehicle_number_feature(vn), cls) for vn, cls in data]\n",
    "    classifier = nltk.NaiveBayesClassifier.train(feature_sets)\n",
    "    for num in test_data:\n",
    "        feature = vehicle_number_feature(num)\n",
    "        print(f\"(dual) {num} is of type {classifier.classify(feature)}\")"
   ]
  },
  {
   "cell_type": "code",
   "execution_count": 7,
   "metadata": {},
   "outputs": [
    {
     "name": "stdout",
     "output_type": "stream",
     "text": [
      "(dual) KA-01-G 0109 is of type gov\n",
      "(dual) KA-02-F 9020 AC is of type rtc\n",
      "(dual) KA-02-FA 0801 is of type rtc\n",
      "(dual) KA-01 9129 is of type oth\n"
     ]
    }
   ],
   "source": [
    "learn_features()"
   ]
  }
 ],
 "metadata": {
  "kernelspec": {
   "display_name": "Python 3",
   "language": "python",
   "name": "python3"
  },
  "language_info": {
   "codemirror_mode": {
    "name": "ipython",
    "version": 3
   },
   "file_extension": ".py",
   "mimetype": "text/x-python",
   "name": "python",
   "nbconvert_exporter": "python",
   "pygments_lexer": "ipython3",
   "version": "3.7.3"
  }
 },
 "nbformat": 4,
 "nbformat_minor": 4
}
