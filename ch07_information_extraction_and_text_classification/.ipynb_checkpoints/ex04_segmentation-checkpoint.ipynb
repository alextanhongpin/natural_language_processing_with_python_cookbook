{
 "cells": [
  {
   "cell_type": "markdown",
   "metadata": {},
   "source": [
    "# Segmentation\n",
    "\n",
    "This example shows how to segment sentences using classification.\n",
    "\n",
    "We will find out features that we can leverage to come up with a classifier and then use the classifier to extract sentences in large text."
   ]
  },
  {
   "cell_type": "code",
   "execution_count": 1,
   "metadata": {},
   "outputs": [],
   "source": [
    "import nltk"
   ]
  },
  {
   "cell_type": "code",
   "execution_count": 2,
   "metadata": {},
   "outputs": [],
   "source": [
    "def feature_extractor(words, i):\n",
    "    features = {'current_word': words[i],\n",
    "                'next_is_upper': words[i+1][0].isupper()}\n",
    "    label = words[i+1][0].isupper()\n",
    "    return (features, label)"
   ]
  },
  {
   "cell_type": "code",
   "execution_count": 22,
   "metadata": {},
   "outputs": [],
   "source": [
    "def get_feature_sets(sentence):\n",
    "    words = nltk.word_tokenize(sentence)\n",
    "    feature_sets = [feature_extractor(words, i) \n",
    "                    for i, word in enumerate(words[:-1]) if word == '.' and i > 0]\n",
    "    return feature_sets"
   ]
  },
  {
   "cell_type": "code",
   "execution_count": 29,
   "metadata": {},
   "outputs": [],
   "source": [
    "def segment_text_and_print_sentences(data):\n",
    "    words = nltk.word_tokenize(data)\n",
    "    for i, word in enumerate(words[:-1]):\n",
    "        if word == '.':\n",
    "            if classifier.classify(feature_extractor(words, i)[0]) == True:\n",
    "                print('.')\n",
    "            else:\n",
    "                print(word, end='')\n",
    "        else:\n",
    "            print(f'{word} ', end='')\n",
    "    print(words[-1])"
   ]
  },
  {
   "cell_type": "code",
   "execution_count": 30,
   "metadata": {},
   "outputs": [],
   "source": [
    "traindata = \"\"\"Weathering with You (Japanese: 天気の子, Hepburn: Tenki no Ko, lit. \"Child of Weather\") is a 2019 Japanese animated romance/fantasy film written and directed by Makoto Shinkai. Set in Japan during a period of exceptionally rainy weather, the film tells the story of a high-school boy who runs away from his rural home to Tokyo and befriends an orphan girl who has the ability to manipulate the weather. The film was produced by Genki Kawamura, and the music was composed by Radwimps.\n",
    "\n",
    "The film was released in Japan on July 19, 2019; the previous day, a novel adaptation written by Shinkai—one of his original works—was published. A manga adaptation illustrated by Watari Kubota was first serialized in Kodansha's Afternoon on July 25 the same year. It was released in 140 countries throughout the world, earning over US$193.1 million worldwide and ¥14.06 billion in Japan. The film was selected as the Japanese entry for Best International Feature Film at the 92nd Academy Awards. It also received four Annie Award nominations including Best Independent Animated Feature.\n",
    "\n",
    "The film received generally positive reviews. On the review aggregator website Rotten Tomatoes, the film has a 91% rating, with the critics' consensus saying; it is beautifully animated and narratively engaged. On Metacritic, the film also got generally favorable reactions. Individual reviewers have also praised the film for its animation, plot, music, visuals, and use of weather to convey the story's metaphor. Some compared the film with Shinkai's previous work, Your Name, criticizing it for its lack of clarity of vision and unresolved plot threads.\"\"\"\n",
    "\n",
    "testdata = \"\"\"In June 2021, first year high schooler Hodaka Morishima runs away from Kōzu-shima to move to Tokyo. When his ferry to the city is hit by a freak rainstorm, he is saved by Keisuke Suga, who gives Hodaka his business card. As Hodaka becomes broke and struggles to find work, he meets Hina Amano, an employee of McDonald's restaurant. She takes pity on him and gives him food. Later on, Hodaka finds an abandoned handgun in a trashcan he fell onto. After tracking down Suga's business location, he meets him there and his niece, Natsumi. Suga hires him as his assistant at a small occult magazine publishing company, where they investigate urban legends related to the unusually rainy weather in Tokyo. From a psychic, they hear the legend of a \"sunshine girl\" who can control the weather.\n",
    "\n",
    "Hodaka sees Hina being intimidated into working at a back-alley club. He scares off the club owners by firing his gun into the air, thinking it was a toy. He and Hina escape; she takes him to Yoyogi Kaikan, an abandoned building with a shrine on its roof, where he throws the gun away. Hina astonishes Hodaka by demonstrating her ability to clear the sky by praying. Hodaka finds out that Hina lives alone with her brother Nagi, and they have no adult guardian. Seeing how they are in a financial trouble, Hodaka proposes to start a business with Hina with the ability of sunshine girl: a job to clear the weather for events such as weddings and parties. They create a website to accept orders and their business quickly becomes a success. However, when clearing the sky for the Jingu Fireworks Festival, Hina is shown on television and their site gets flooded with requests, so they decide to close their business.\"\"\""
   ]
  },
  {
   "cell_type": "code",
   "execution_count": 31,
   "metadata": {},
   "outputs": [
    {
     "name": "stdout",
     "output_type": "stream",
     "text": [
      "In June 2021 , first year high schooler Hodaka Morishima runs away from Kōzu-shima to move to Tokyo .\n",
      "When his ferry to the city is hit by a freak rainstorm , he is saved by Keisuke Suga , who gives Hodaka his business card .\n",
      "As Hodaka becomes broke and struggles to find work , he meets Hina Amano , an employee of McDonald 's restaurant .\n",
      "She takes pity on him and gives him food .\n",
      "Later on , Hodaka finds an abandoned handgun in a trashcan he fell onto .\n",
      "After tracking down Suga 's business location , he meets him there and his niece , Natsumi .\n",
      "Suga hires him as his assistant at a small occult magazine publishing company , where they investigate urban legends related to the unusually rainy weather in Tokyo .\n",
      "From a psychic , they hear the legend of a `` sunshine girl '' who can control the weather .\n",
      "Hodaka sees Hina being intimidated into working at a back-alley club .\n",
      "He scares off the club owners by firing his gun into the air , thinking it was a toy .\n",
      "He and Hina escape ; she takes him to Yoyogi Kaikan , an abandoned building with a shrine on its roof , where he throws the gun away .\n",
      "Hina astonishes Hodaka by demonstrating her ability to clear the sky by praying .\n",
      "Hodaka finds out that Hina lives alone with her brother Nagi , and they have no adult guardian .\n",
      "Seeing how they are in a financial trouble , Hodaka proposes to start a business with Hina with the ability of sunshine girl : a job to clear the weather for events such as weddings and parties .\n",
      "They create a website to accept orders and their business quickly becomes a success .\n",
      "However , when clearing the sky for the Jingu Fireworks Festival , Hina is shown on television and their site gets flooded with requests , so they decide to close their business .\n"
     ]
    }
   ],
   "source": [
    "traindataset = get_feature_sets(traindata)\n",
    "classifier = nltk.NaiveBayesClassifier.train(traindataset)\n",
    "segment_text_and_print_sentences(testdata)"
   ]
  }
 ],
 "metadata": {
  "kernelspec": {
   "display_name": "Python 3",
   "language": "python",
   "name": "python3"
  },
  "language_info": {
   "codemirror_mode": {
    "name": "ipython",
    "version": 3
   },
   "file_extension": ".py",
   "mimetype": "text/x-python",
   "name": "python",
   "nbconvert_exporter": "python",
   "pygments_lexer": "ipython3",
   "version": "3.7.3"
  }
 },
 "nbformat": 4,
 "nbformat_minor": 4
}
