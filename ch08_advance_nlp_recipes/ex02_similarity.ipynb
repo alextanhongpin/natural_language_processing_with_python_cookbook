{
 "cells": [
  {
   "cell_type": "markdown",
   "metadata": {},
   "source": [
    "# Similarity\n",
    "\n",
    "This example demonstrates how to perform text similarity with nltk"
   ]
  },
  {
   "cell_type": "code",
   "execution_count": 20,
   "metadata": {},
   "outputs": [],
   "source": [
    "# !pip3 install sklearn\n",
    "import nltk\n",
    "import math\n",
    "import random\n",
    "from sklearn.feature_extraction.text import TfidfVectorizer\n",
    "from sklearn.metrics.pairwise import cosine_similarity"
   ]
  },
  {
   "cell_type": "code",
   "execution_count": 21,
   "metadata": {},
   "outputs": [],
   "source": [
    "class TextSimilarity:\n",
    "    def __init__(self):\n",
    "        self.statements = [\n",
    "            'I like cats',\n",
    "            'The weather is good',\n",
    "            'He is a cat lover',\n",
    "            'This is a good day'\n",
    "        ]\n",
    "        \n",
    "    def tf(self, sentence):\n",
    "        words = nltk.word_tokenize(sentence.lower())\n",
    "        freq = nltk.FreqDist(words)\n",
    "        dictionary = {}\n",
    "        for key in freq.keys():\n",
    "            norm = freq[key]/float(len(words))\n",
    "            dictionary[key] = norm\n",
    "        return dictionary\n",
    "\n",
    "    def idf(self):\n",
    "        def idf(total_number_of_documents, number_of_documents_with_this_word):\n",
    "            return 1.0 + math.log(total_number_of_documents/number_of_documents_with_this_word)\n",
    "        \n",
    "        num_documents = len(self.statements)\n",
    "        unique_words = {}\n",
    "        idf_values = {}\n",
    "        for sentence in self.statements:\n",
    "            for word in nltk.word_tokenize(sentence.lower()):\n",
    "                if word not in unique_words:\n",
    "                    unique_words[word] = 1\n",
    "                else:\n",
    "                    unique_words[word] += 1\n",
    "        for word in unique_words:\n",
    "            idf_values[word] = idf(num_documents, unique_words[word])\n",
    "        return idf_values\n",
    "\n",
    "    def tfidf(self, query):\n",
    "        words = nltk.word_tokenize(query.lower())\n",
    "        idf = self.idf()\n",
    "        vectors = {}\n",
    "        for sentence in self.statements:\n",
    "            tf = self.tf(sentence)\n",
    "            for word in words:\n",
    "                tfv = tf[word] if word in tf else 0.0\n",
    "                idfv = idf[word] if word in idf else 0.0\n",
    "                mul = tfv * idfv\n",
    "                if word not in vectors:\n",
    "                    vectors[word] = []\n",
    "                vectors[word].append(mul)\n",
    "        return vectors\n",
    "    \n",
    "    def display_vectors(self, vectors):\n",
    "        print(self.statements)\n",
    "        for word in vectors:\n",
    "            print('{} -> {}'.format(word, vectors[word]))\n",
    "            \n",
    "    def cosine_similarity(self):\n",
    "        vec = TfidfVectorizer()\n",
    "        matrix = vec.fit_transform(self.statements)\n",
    "        for j in range(1, 5):\n",
    "            i = j - 1\n",
    "            print('similarity of document {} with others'.format(i))\n",
    "            similarity = cosine_similarity(matrix[i:j], matrix)\n",
    "            print(similarity)\n",
    "    \n",
    "    def demo(self):\n",
    "        input_query = random.choice(self.statements)\n",
    "        vectors = self.tfidf(input_query)\n",
    "        self.display_vectors(vectors)\n",
    "        self.cosine_similarity()"
   ]
  },
  {
   "cell_type": "code",
   "execution_count": 26,
   "metadata": {},
   "outputs": [
    {
     "name": "stdout",
     "output_type": "stream",
     "text": [
      "['I like cats', 'The weather is good', 'He is a cat lover', 'This is a good day']\n",
      "he -> [0.0, 0.0, 0.47725887222397817, 0.0]\n",
      "is -> [0.0, 0.3219205181129452, 0.2575364144903562, 0.2575364144903562]\n",
      "a -> [0.0, 0.0, 0.3386294361119891, 0.3386294361119891]\n",
      "cat -> [0.0, 0.0, 0.47725887222397817, 0.0]\n",
      "lover -> [0.0, 0.0, 0.47725887222397817, 0.0]\n",
      "similarity of document 0 with others\n",
      "[[1. 0. 0. 0.]]\n",
      "similarity of document 1 with others\n",
      "[[0.         1.         0.12681481 0.33971674]]\n",
      "similarity of document 2 with others\n",
      "[[0.         0.12681481 1.         0.12681481]]\n",
      "similarity of document 3 with others\n",
      "[[0.         0.33971674 0.12681481 1.        ]]\n"
     ]
    }
   ],
   "source": [
    "similarity = TextSimilarity()\n",
    "similarity.demo()"
   ]
  }
 ],
 "metadata": {
  "kernelspec": {
   "display_name": "Python 3",
   "language": "python",
   "name": "python3"
  },
  "language_info": {
   "codemirror_mode": {
    "name": "ipython",
    "version": 3
   },
   "file_extension": ".py",
   "mimetype": "text/x-python",
   "name": "python",
   "nbconvert_exporter": "python",
   "pygments_lexer": "ipython3",
   "version": "3.7.3"
  }
 },
 "nbformat": 4,
 "nbformat_minor": 4
}
