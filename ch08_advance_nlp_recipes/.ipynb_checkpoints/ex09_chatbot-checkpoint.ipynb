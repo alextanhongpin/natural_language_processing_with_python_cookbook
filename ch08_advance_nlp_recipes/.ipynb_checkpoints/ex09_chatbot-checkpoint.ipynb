{
 "cells": [
  {
   "cell_type": "markdown",
   "metadata": {},
   "source": [
    "# Chatbot\n",
    "\n",
    "Creating a conversational assistant or chatbot"
   ]
  },
  {
   "cell_type": "code",
   "execution_count": 1,
   "metadata": {},
   "outputs": [],
   "source": [
    "import nltk"
   ]
  },
  {
   "cell_type": "code",
   "execution_count": 11,
   "metadata": {},
   "outputs": [],
   "source": [
    "def builtin_engine(which):\n",
    "    if which == 'eliza':\n",
    "        nltk.chat.eliza.demo()\n",
    "    elif which == 'iesha':\n",
    "        nltk.chat.iesha.demo()\n",
    "    elif which == 'rude':\n",
    "        nltk.chat.rude.demo()\n",
    "    elif which == 'suntsu':\n",
    "        nltk.chat.suntsu.demo()\n",
    "    elif which == 'zen':\n",
    "        nltk.chat.zen.demo()\n",
    "    else:\n",
    "        print('unknown built-in engine {}'.format(which))"
   ]
  },
  {
   "cell_type": "code",
   "execution_count": 16,
   "metadata": {},
   "outputs": [],
   "source": [
    "def engine():\n",
    "    chatpairs = (\n",
    "        (r'(.*?)Stock price(.*)', ('Today stock price is 100', 'I am unable to find out the stock price.')),\n",
    "        (r'(.*?)not well(.*)', ('Oh, take care. Maybe you should visit a doctor', 'Did you take some medicine?')),\n",
    "        (r'(.*?)raining(.*)', ('Its monsoon season, what more do you expect?', 'Yes, it is good for farmers')),\n",
    "        (r'How(.*?)health(.*)', ('I am always healthy.', 'I am a program, super healthy!')),\n",
    "        (r'.*', ('I am good. How are you today?', 'What brings you here?'))\n",
    "    )\n",
    "    \n",
    "    def chat():\n",
    "        print('!'*80)\n",
    "        print('>> my engine <<')\n",
    "        print('Talk to the program using normal english')\n",
    "        print('='*80)\n",
    "        print(\"Enter 'quit' when done\")\n",
    "        chatbot = nltk.chat.util.Chat(chatpairs, nltk.chat.util.reflections)\n",
    "        chatbot.converse()\n",
    "    chat()"
   ]
  },
  {
   "cell_type": "code",
   "execution_count": 17,
   "metadata": {},
   "outputs": [
    {
     "name": "stdout",
     "output_type": "stream",
     "text": [
      "!!!!!!!!!!!!!!!!!!!!!!!!!!!!!!!!!!!!!!!!!!!!!!!!!!!!!!!!!!!!!!!!!!!!!!!!!!!!!!!!\n",
      ">> my engine <<\n",
      "Talk to the program using normal english\n",
      "================================================================================\n",
      "Enter 'quit' when done\n"
     ]
    },
    {
     "name": "stdin",
     "output_type": "stream",
     "text": [
      "> hello\n"
     ]
    },
    {
     "name": "stdout",
     "output_type": "stream",
     "text": [
      "I am good. How are you today?\n"
     ]
    },
    {
     "name": "stdin",
     "output_type": "stream",
     "text": [
      "> I am not well\n"
     ]
    },
    {
     "name": "stdout",
     "output_type": "stream",
     "text": [
      "Oh, take care. Maybe you should visit a doctor\n"
     ]
    },
    {
     "name": "stdin",
     "output_type": "stream",
     "text": [
      "> raining\n"
     ]
    },
    {
     "name": "stdout",
     "output_type": "stream",
     "text": [
      "Yes, it is good for farmers\n"
     ]
    },
    {
     "name": "stdin",
     "output_type": "stream",
     "text": [
      "> it's raining\n"
     ]
    },
    {
     "name": "stdout",
     "output_type": "stream",
     "text": [
      "Its monsoon season, what more do you expect?\n"
     ]
    },
    {
     "name": "stdin",
     "output_type": "stream",
     "text": [
      "> how are you?\n"
     ]
    },
    {
     "name": "stdout",
     "output_type": "stream",
     "text": [
      "I am good. How are you today?\n"
     ]
    },
    {
     "name": "stdin",
     "output_type": "stream",
     "text": [
      "> you health?\n"
     ]
    },
    {
     "name": "stdout",
     "output_type": "stream",
     "text": [
      "I am good. How are you today?\n"
     ]
    },
    {
     "name": "stdin",
     "output_type": "stream",
     "text": [
      "> healthy?\n"
     ]
    },
    {
     "name": "stdout",
     "output_type": "stream",
     "text": [
      "What brings you here?\n"
     ]
    },
    {
     "name": "stdin",
     "output_type": "stream",
     "text": [
      "> haha\n"
     ]
    },
    {
     "name": "stdout",
     "output_type": "stream",
     "text": [
      "I am good. How are you today?\n"
     ]
    },
    {
     "name": "stdin",
     "output_type": "stream",
     "text": [
      "> exit\n"
     ]
    },
    {
     "name": "stdout",
     "output_type": "stream",
     "text": [
      "What brings you here?\n"
     ]
    },
    {
     "name": "stdin",
     "output_type": "stream",
     "text": [
      "> quit\n"
     ]
    },
    {
     "name": "stdout",
     "output_type": "stream",
     "text": [
      "I am good. How are you today?\n"
     ]
    }
   ],
   "source": [
    "# for engine in ['eliza', 'iesha', 'rude', 'suntsu', 'zen']:\n",
    "#     print('== demo of {} =='.format(engine))\n",
    "#     builtin_engine(engine)\n",
    "#     print()\n",
    "\n",
    "engine()"
   ]
  }
 ],
 "metadata": {
  "kernelspec": {
   "display_name": "Python 3",
   "language": "python",
   "name": "python3"
  },
  "language_info": {
   "codemirror_mode": {
    "name": "ipython",
    "version": 3
   },
   "file_extension": ".py",
   "mimetype": "text/x-python",
   "name": "python",
   "nbconvert_exporter": "python",
   "pygments_lexer": "ipython3",
   "version": "3.8.5"
  }
 },
 "nbformat": 4,
 "nbformat_minor": 4
}
