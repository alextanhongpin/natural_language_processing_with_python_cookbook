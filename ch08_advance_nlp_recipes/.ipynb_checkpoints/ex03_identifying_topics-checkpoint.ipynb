{
 "cells": [
  {
   "cell_type": "markdown",
   "metadata": {},
   "source": [
    "# Identifying topics\n",
    "\n",
    "This example shows how to identify the topic of a document.\n",
    "\n",
    "Topic identification is a process of discovering topics that are present in the input document set. These topics can be multiple words that occurs uniquely in a given text."
   ]
  },
  {
   "cell_type": "code",
   "execution_count": 3,
   "metadata": {},
   "outputs": [
    {
     "name": "stdout",
     "output_type": "stream",
     "text": [
      "Collecting gensim\n",
      "  Downloading gensim-3.8.3-cp37-cp37m-macosx_10_9_x86_64.whl (24.2 MB)\n",
      "\u001b[K     |████████████████████████████████| 24.2 MB 7.0 MB/s eta 0:00:01\n",
      "\u001b[?25hRequirement already satisfied: scipy>=0.18.1 in /Users/alextanhongpin/.local/share/virtualenvs/natural_language_processing_with_python_co-tJ8vfo8Q/lib/python3.7/site-packages (from gensim) (1.5.2)\n",
      "Collecting smart-open>=1.8.1\n",
      "  Downloading smart_open-2.1.0.tar.gz (116 kB)\n",
      "\u001b[K     |████████████████████████████████| 116 kB 35.9 MB/s eta 0:00:01\n",
      "\u001b[?25hRequirement already satisfied: numpy>=1.11.3 in /Users/alextanhongpin/.local/share/virtualenvs/natural_language_processing_with_python_co-tJ8vfo8Q/lib/python3.7/site-packages (from gensim) (1.19.1)\n",
      "Requirement already satisfied: six>=1.5.0 in /Users/alextanhongpin/.local/share/virtualenvs/natural_language_processing_with_python_co-tJ8vfo8Q/lib/python3.7/site-packages (from gensim) (1.15.0)\n",
      "Requirement already satisfied: requests in /Users/alextanhongpin/.local/share/virtualenvs/natural_language_processing_with_python_co-tJ8vfo8Q/lib/python3.7/site-packages (from smart-open>=1.8.1->gensim) (2.24.0)\n",
      "Collecting boto\n",
      "  Downloading boto-2.49.0-py2.py3-none-any.whl (1.4 MB)\n",
      "\u001b[K     |████████████████████████████████| 1.4 MB 36.5 MB/s eta 0:00:01\n",
      "\u001b[?25hCollecting boto3\n",
      "  Downloading boto3-1.14.33-py2.py3-none-any.whl (129 kB)\n",
      "\u001b[K     |████████████████████████████████| 129 kB 12.6 MB/s eta 0:00:01\n",
      "\u001b[?25hRequirement already satisfied: urllib3!=1.25.0,!=1.25.1,<1.26,>=1.21.1 in /Users/alextanhongpin/.local/share/virtualenvs/natural_language_processing_with_python_co-tJ8vfo8Q/lib/python3.7/site-packages (from requests->smart-open>=1.8.1->gensim) (1.25.10)\n",
      "Requirement already satisfied: idna<3,>=2.5 in /Users/alextanhongpin/.local/share/virtualenvs/natural_language_processing_with_python_co-tJ8vfo8Q/lib/python3.7/site-packages (from requests->smart-open>=1.8.1->gensim) (2.10)\n",
      "Requirement already satisfied: chardet<4,>=3.0.2 in /Users/alextanhongpin/.local/share/virtualenvs/natural_language_processing_with_python_co-tJ8vfo8Q/lib/python3.7/site-packages (from requests->smart-open>=1.8.1->gensim) (3.0.4)\n",
      "Requirement already satisfied: certifi>=2017.4.17 in /Users/alextanhongpin/.local/share/virtualenvs/natural_language_processing_with_python_co-tJ8vfo8Q/lib/python3.7/site-packages (from requests->smart-open>=1.8.1->gensim) (2020.6.20)\n",
      "Collecting s3transfer<0.4.0,>=0.3.0\n",
      "  Downloading s3transfer-0.3.3-py2.py3-none-any.whl (69 kB)\n",
      "\u001b[K     |████████████████████████████████| 69 kB 10.6 MB/s eta 0:00:01\n",
      "\u001b[?25hCollecting botocore<1.18.0,>=1.17.33\n",
      "  Downloading botocore-1.17.33-py2.py3-none-any.whl (6.5 MB)\n",
      "\u001b[K     |████████████████████████████████| 6.5 MB 49.6 MB/s eta 0:00:01\n",
      "\u001b[?25hCollecting jmespath<1.0.0,>=0.7.1\n",
      "  Downloading jmespath-0.10.0-py2.py3-none-any.whl (24 kB)\n",
      "Collecting docutils<0.16,>=0.10\n",
      "  Downloading docutils-0.15.2-py3-none-any.whl (547 kB)\n",
      "\u001b[K     |████████████████████████████████| 547 kB 31.8 MB/s eta 0:00:01     |██████████▊                     | 184 kB 31.8 MB/s eta 0:00:01\n",
      "\u001b[?25hRequirement already satisfied: python-dateutil<3.0.0,>=2.1 in /Users/alextanhongpin/.local/share/virtualenvs/natural_language_processing_with_python_co-tJ8vfo8Q/lib/python3.7/site-packages (from botocore<1.18.0,>=1.17.33->boto3->smart-open>=1.8.1->gensim) (2.8.1)\n",
      "Building wheels for collected packages: smart-open\n",
      "  Building wheel for smart-open (setup.py) ... \u001b[?25ldone\n",
      "\u001b[?25h  Created wheel for smart-open: filename=smart_open-2.1.0-py3-none-any.whl size=110317 sha256=5415707d0b52fd1d263b09c745594477807ecece8ea59f1e193afcb4ef887c1e\n",
      "  Stored in directory: /Users/alextanhongpin/Library/Caches/pip/wheels/56/b5/6d/86dbe4f29d4688e5163a8b8c6b740494310040286fca4dc648\n",
      "Successfully built smart-open\n",
      "Installing collected packages: boto, docutils, jmespath, botocore, s3transfer, boto3, smart-open, gensim\n",
      "Successfully installed boto-2.49.0 boto3-1.14.33 botocore-1.17.33 docutils-0.15.2 gensim-3.8.3 jmespath-0.10.0 s3transfer-0.3.3 smart-open-2.1.0\n"
     ]
    }
   ],
   "source": [
    "!pip3 install gensim\n",
    "from nltk.tokenize import RegexpTokenizer\n",
    "from nltk.corpus import stopwords\n",
    "from gensim import corpora, models\n",
    "import nltk\n",
    "import feedparser"
   ]
  },
  {
   "cell_type": "code",
   "execution_count": 12,
   "metadata": {},
   "outputs": [],
   "source": [
    "class IdentifyingTopic:\n",
    "    def get_documents(self):\n",
    "        url = 'https://www.straitstimes.com/news/business/rss.xml'\n",
    "        feed = feedparser.parse(url)\n",
    "        self.documents = []\n",
    "        for entry in feed['entries'][:5]:\n",
    "            text = entry['summary']\n",
    "            self.documents.append(text)\n",
    "            print('-- {}'.format(text))\n",
    "        print('INFO: Fetching documents from {} completed'.format(url))\n",
    "    \n",
    "    def clean_documents(self):\n",
    "        tokenizer = RegexpTokenizer(r'[a-zA-Z]+')\n",
    "        en_stop = set(stopwords.words('english'))\n",
    "        self.cleaned = []\n",
    "        for doc in self.documents:\n",
    "            lowercase_doc = doc.lower()\n",
    "            words = tokenizer.tokenize(lowercase_doc)\n",
    "            non_stopped_words = [i for i in words if not i in en_stop]\n",
    "            self.cleaned.append(non_stopped_words)\n",
    "        print('INFO: Cleaning {} documents completed'.format(len(self.documents)))\n",
    "    \n",
    "    def do_lda(self):\n",
    "        dictionary = corpora.Dictionary(self.cleaned)\n",
    "        corpus = [dictionary.doc2bow(cleandoc) for cleandoc in self.cleaned]\n",
    "        lda_model = models.ldamodel.LdaModel(corpus, num_topics=2, id2word=dictionary)\n",
    "        return lda_model.print_topics(num_topics=2, num_words=4)\n",
    "\n",
    "    def run(self):\n",
    "        self.get_documents()\n",
    "        self.clean_documents()\n",
    "        return self.do_lda()"
   ]
  },
  {
   "cell_type": "code",
   "execution_count": 13,
   "metadata": {},
   "outputs": [
    {
     "name": "stdout",
     "output_type": "stream",
     "text": [
      "-- August 03, 2020 1:29 PM<br /><br />PARIS (BLOOMBERG) - Societe Generale swung to a surprise 1.26 billion-euro (S$2.04 billion) loss fir the second quarter because of charges at its trading unit, extending a losing streak that's set to increase pressure on chief executive officer Frederic Oudea.\n",
      "-- August 03, 2020 12:26 PM<br /><br />LONDON (REUTERS) - HSBC Holdings posted a higher-than-expected 65 per cent tumble in first-half pre-tax profit as the coronavirus pandemic and its impact on businesses forced the Asia-focused bank to boost its loan-loss provisions.\n",
      "-- August 03, 2020 12:06 PM<br /><br />HONG KONG )AFP) - Asian markets mostly retreated on Monday Aug 3) with sentiment depressed by a spike in coronavirus infections that has forced fresh lockdowns and sparked worries about the impact on the world economy.\n",
      "-- August 03, 2020 11:45 AM<br /><br />SINGAPORE (THE BUSINESS TIMES) - Shares of Keppel Corp sank over 4 per cent on Monday morning (Aug 3), amid a broad market decline on the Singapore bourse.\n",
      "-- August 03, 2020 10:47 AM<br /><br />TOKYO (REUTERS) - Asia's factory pain continued to ease in July with contraction slowing in big export-reliant nations, adding to hopes the region is steadily emerging from the devastating hit of the coronavirus pandemic.\n",
      "INFO: Fetching documents from https://www.straitstimes.com/news/business/rss.xml completed\n",
      "INFO: Cleaning 5 documents completed\n"
     ]
    },
    {
     "data": {
      "text/plain": [
       "[(0, '0.043*\"br\" + 0.026*\"august\" + 0.022*\"coronavirus\" + 0.018*\"pm\"'),\n",
       " (1, '0.049*\"br\" + 0.024*\"august\" + 0.022*\"singapore\" + 0.018*\"cent\"')]"
      ]
     },
     "execution_count": 13,
     "metadata": {},
     "output_type": "execute_result"
    }
   ],
   "source": [
    "topic = IdentifyingTopic()\n",
    "topic.run()"
   ]
  }
 ],
 "metadata": {
  "kernelspec": {
   "display_name": "Python 3",
   "language": "python",
   "name": "python3"
  },
  "language_info": {
   "codemirror_mode": {
    "name": "ipython",
    "version": 3
   },
   "file_extension": ".py",
   "mimetype": "text/x-python",
   "name": "python",
   "nbconvert_exporter": "python",
   "pygments_lexer": "ipython3",
   "version": "3.7.3"
  }
 },
 "nbformat": 4,
 "nbformat_minor": 4
}
