{
 "cells": [
  {
   "cell_type": "markdown",
   "metadata": {},
   "source": [
    "# Summarizing text\n",
    "\n",
    "This examples shows how to summarize a text."
   ]
  },
  {
   "cell_type": "code",
   "execution_count": 1,
   "metadata": {},
   "outputs": [],
   "source": [
    "from gensim.summarization import summarize\n",
    "from bs4 import BeautifulSoup\n",
    "import requests"
   ]
  },
  {
   "cell_type": "code",
   "execution_count": 4,
   "metadata": {},
   "outputs": [],
   "source": [
    "urls = {\n",
    "    'Weathering with You': 'https://en.wikipedia.org/wiki/Weathering_with_You',\n",
    "    'Your Name': 'https://en.wikipedia.org/wiki/Your_Name'\n",
    "}"
   ]
  },
  {
   "cell_type": "code",
   "execution_count": 5,
   "metadata": {},
   "outputs": [
    {
     "name": "stdout",
     "output_type": "stream",
     "text": [
      "PAPER URL: https://en.wikipedia.org/wiki/Weathering_with_You\n",
      "TITLE: Weathering with You\n",
      "GENERATED SUMMARY: \"Child of Weather\") is a 2019 Japanese animated romance/fantasy film written and directed by Makoto Shinkai.\n",
      "Set in Japan during a period of exceptionally rainy weather, the film tells the story of a high-school boy who runs away from his rural home to Tokyo and befriends an orphan girl who has the ability to manipulate the weather.\n",
      "The film was released in Japan on July 19, 2019; the previous day, a novel adaptation written by Shinkai—one of his original works—was published.\n",
      "It was released in 140 countries throughout the world, earning over US$193.1 million worldwide and ¥14.06 billion in Japan.\n",
      "Individual reviewers have also praised the film for its animation, plot, music, visuals, and use of weather to convey the story's metaphor.\n",
      "\n",
      "PAPER URL: https://en.wikipedia.org/wiki/Your_Name\n",
      "TITLE: Your Name\n",
      "GENERATED SUMMARY: 2016 romantic fantasy drama anime film\n",
      "(Japanese: 君の名は。, Hepburn: Kimi no Na wa.) is a 2016 Japanese animated romantic/fantasy/drama film written and directed by Makoto Shinkai and produced by CoMix Wave Films.\n",
      "The film was produced by Kōichirō Itō and Katsuhiro Takei, with animation direction by Masashi Ando, character designs by Masayoshi Tanaka, and music composed by Radwimps.\n",
      "The film stars the voices of Ryunosuke Kamiki, Mone Kamishiraishi, Masami Nagasawa and Etsuko Ichihara.\n",
      "Shinkai's eponymous novel was published a month before the film's premiere.\n",
      "It premiered at the Anime Expo 2016 convention in Los Angeles, California, on July 3, 2016, and in Japan on August 26, 2016.\n",
      "It was critically acclaimed for its animation, complex narrative, musical score, and emotional weight.\n",
      "The film was also a major commercial success, with a total gross of $357.9 million, becoming the highest-grossing anime film and Japanese film of all time, the fourth-highest-grossing film of all time in Japan, the ninth-highest-grossing traditionally animated film, and the 16th-highest-grossing non-English film worldwide.\n",
      "\n"
     ]
    }
   ],
   "source": [
    "for key in urls.keys():\n",
    "    url = urls[key]\n",
    "    r = requests.get(url)\n",
    "    soup = BeautifulSoup(r.text, 'html.parser')\n",
    "    data = soup.get_text()\n",
    "    pos1 = data.find('From Wikipedia, the free encyclopedia') + len('From Wikipedia, the free encyclopedia')\n",
    "    pos2 = data.find('Plot')\n",
    "    text = data[pos1:pos2].strip()\n",
    "    print('PAPER URL: {}'.format(url))\n",
    "    print('TITLE: {}'.format(key))\n",
    "    print('GENERATED SUMMARY: {}'.format(summarize(text)))\n",
    "    print()"
   ]
  }
 ],
 "metadata": {
  "kernelspec": {
   "display_name": "Python 3",
   "language": "python",
   "name": "python3"
  },
  "language_info": {
   "codemirror_mode": {
    "name": "ipython",
    "version": 3
   },
   "file_extension": ".py",
   "mimetype": "text/x-python",
   "name": "python",
   "nbconvert_exporter": "python",
   "pygments_lexer": "ipython3",
   "version": "3.7.3"
  }
 },
 "nbformat": 4,
 "nbformat_minor": 4
}
