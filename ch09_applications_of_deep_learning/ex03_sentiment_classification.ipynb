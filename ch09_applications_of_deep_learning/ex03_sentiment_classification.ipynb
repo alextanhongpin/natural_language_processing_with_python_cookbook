{
 "cells": [
  {
   "cell_type": "markdown",
   "metadata": {},
   "source": [
    "# Sentiment classification\n",
    "\n",
    "This example shows how to perform sentiment classification using bidirectional LSTM."
   ]
  },
  {
   "cell_type": "code",
   "execution_count": 1,
   "metadata": {},
   "outputs": [],
   "source": [
    "from __future__ import print_function\n",
    "import numpy as np\n",
    "import pandas as pd\n",
    "from keras.preprocessing import sequence\n",
    "from keras.models import Sequential\n",
    "from keras.layers import Dense, Dropout, Embedding, LSTM, Bidirectional\n",
    "from keras.datasets import imdb\n",
    "from sklearn.metrics import accuracy_score, classification_report"
   ]
  },
  {
   "cell_type": "code",
   "execution_count": 2,
   "metadata": {},
   "outputs": [],
   "source": [
    "# Max features are limited\n",
    "max_features = 15_000\n",
    "max_len = 300\n",
    "batch_size = 64"
   ]
  },
  {
   "cell_type": "code",
   "execution_count": 3,
   "metadata": {},
   "outputs": [
    {
     "name": "stderr",
     "output_type": "stream",
     "text": [
      "<__array_function__ internals>:5: VisibleDeprecationWarning: Creating an ndarray from ragged nested sequences (which is a list-or-tuple of lists-or-tuples-or ndarrays with different lengths or shapes) is deprecated. If you meant to do this, you must specify 'dtype=object' when creating the ndarray\n",
      "/Users/alextanhongpin/.local/share/virtualenvs/natural_language_processing_with_python_co-tJ8vfo8Q/lib/python3.8/site-packages/tensorflow/python/keras/datasets/imdb.py:159: VisibleDeprecationWarning: Creating an ndarray from ragged nested sequences (which is a list-or-tuple of lists-or-tuples-or ndarrays with different lengths or shapes) is deprecated. If you meant to do this, you must specify 'dtype=object' when creating the ndarray\n",
      "  x_train, y_train = np.array(xs[:idx]), np.array(labels[:idx])\n"
     ]
    },
    {
     "name": "stdout",
     "output_type": "stream",
     "text": [
      "25000 train observations\n",
      "25000 test observations\n"
     ]
    },
    {
     "name": "stderr",
     "output_type": "stream",
     "text": [
      "/Users/alextanhongpin/.local/share/virtualenvs/natural_language_processing_with_python_co-tJ8vfo8Q/lib/python3.8/site-packages/tensorflow/python/keras/datasets/imdb.py:160: VisibleDeprecationWarning: Creating an ndarray from ragged nested sequences (which is a list-or-tuple of lists-or-tuples-or ndarrays with different lengths or shapes) is deprecated. If you meant to do this, you must specify 'dtype=object' when creating the ndarray\n",
      "  x_test, y_test = np.array(xs[idx:]), np.array(labels[idx:])\n"
     ]
    }
   ],
   "source": [
    "# Loading data.\n",
    "(x_train, y_train), (x_test, y_test) = imdb.load_data(num_words=max_features)\n",
    "print(len(x_train), 'train observations')\n",
    "print(len(x_test), 'test observations')"
   ]
  },
  {
   "cell_type": "code",
   "execution_count": 4,
   "metadata": {},
   "outputs": [
    {
     "name": "stdout",
     "output_type": "stream",
     "text": [
      "x_train shape: (25000, 300)\n",
      "x_test shape: (25000, 300)\n"
     ]
    }
   ],
   "source": [
    "# Pad sequences for computational efficiency.\n",
    "x_train_2 = sequence.pad_sequences(x_train, maxlen=max_len)\n",
    "x_test_2 = sequence.pad_sequences(x_test, maxlen=max_len)\n",
    "print('x_train shape:', x_train_2.shape)\n",
    "print('x_test shape:', x_test_2.shape)"
   ]
  },
  {
   "cell_type": "code",
   "execution_count": 5,
   "metadata": {},
   "outputs": [],
   "source": [
    "y_train = np.array(y_train)\n",
    "y_test = np.array(y_test)"
   ]
  },
  {
   "cell_type": "code",
   "execution_count": 6,
   "metadata": {},
   "outputs": [],
   "source": [
    "# Model building.\n",
    "model = Sequential()\n",
    "model.add(Embedding(max_features, 128, input_length=max_len))\n",
    "model.add(Bidirectional(LSTM(64)))\n",
    "model.add(Dropout(0.5))\n",
    "model.add(Dense(1, activation='sigmoid'))\n",
    "model.compile('adam', 'binary_crossentropy', metrics=['accuracy'])"
   ]
  },
  {
   "cell_type": "code",
   "execution_count": 7,
   "metadata": {},
   "outputs": [
    {
     "name": "stdout",
     "output_type": "stream",
     "text": [
      "Model: \"sequential\"\n",
      "_________________________________________________________________\n",
      "Layer (type)                 Output Shape              Param #   \n",
      "=================================================================\n",
      "embedding (Embedding)        (None, 300, 128)          1920000   \n",
      "_________________________________________________________________\n",
      "bidirectional (Bidirectional (None, 128)               98816     \n",
      "_________________________________________________________________\n",
      "dropout (Dropout)            (None, 128)               0         \n",
      "_________________________________________________________________\n",
      "dense (Dense)                (None, 1)                 129       \n",
      "=================================================================\n",
      "Total params: 2,018,945\n",
      "Trainable params: 2,018,945\n",
      "Non-trainable params: 0\n",
      "_________________________________________________________________\n",
      "None\n"
     ]
    }
   ],
   "source": [
    "# Print model architecture.\n",
    "print(model.summary())"
   ]
  },
  {
   "cell_type": "code",
   "execution_count": 8,
   "metadata": {},
   "outputs": [
    {
     "name": "stdout",
     "output_type": "stream",
     "text": [
      "Epoch 1/4\n",
      "313/313 [==============================] - 169s 540ms/step - loss: 0.4333 - accuracy: 0.7970 - val_loss: 0.3079 - val_accuracy: 0.8744\n",
      "Epoch 2/4\n",
      "313/313 [==============================] - 146s 466ms/step - loss: 0.2208 - accuracy: 0.9165 - val_loss: 0.2942 - val_accuracy: 0.8746\n",
      "Epoch 3/4\n",
      "313/313 [==============================] - 133s 425ms/step - loss: 0.1473 - accuracy: 0.9477 - val_loss: 0.3205 - val_accuracy: 0.8744\n",
      "Epoch 4/4\n",
      "313/313 [==============================] - 139s 445ms/step - loss: 0.1201 - accuracy: 0.9588 - val_loss: 0.3663 - val_accuracy: 0.8604\n"
     ]
    },
    {
     "data": {
      "text/plain": [
       "<tensorflow.python.keras.callbacks.History at 0x14c730550>"
      ]
     },
     "execution_count": 8,
     "metadata": {},
     "output_type": "execute_result"
    }
   ],
   "source": [
    "# Train the model.\n",
    "model.fit(x_train_2, y_train, batch_size=batch_size, epochs=4, validation_split=0.2)"
   ]
  },
  {
   "cell_type": "code",
   "execution_count": 15,
   "metadata": {},
   "outputs": [],
   "source": [
    "# Model prediction.\n",
    "y_train_predclass = model.predict(x_train_2, batch_size=1_000)\n",
    "y_test_predclass = model.predict(x_test_2, batch_size=1_000)"
   ]
  },
  {
   "cell_type": "code",
   "execution_count": 16,
   "metadata": {},
   "outputs": [],
   "source": [
    "y_train_predclass.shape = y_train.shape\n",
    "y_test_predclass.shape = y_test.shape"
   ]
  },
  {
   "cell_type": "code",
   "execution_count": 17,
   "metadata": {},
   "outputs": [
    {
     "name": "stdout",
     "output_type": "stream",
     "text": [
      "LSTM bidirectional sentiment classification - train accuracy:\n",
      "0.955\n",
      "LSTM bidirectional sentiment classification - training data:\n",
      "              precision    recall  f1-score   support\n",
      "\n",
      "           0       0.95      0.96      0.95     12500\n",
      "           1       0.96      0.95      0.95     12500\n",
      "\n",
      "    accuracy                           0.95     25000\n",
      "   macro avg       0.95      0.95      0.95     25000\n",
      "weighted avg       0.95      0.95      0.95     25000\n",
      "\n",
      "LSTM bidirectional sentiment classification - train confusion matrix:\n",
      "Predicted      0      1\n",
      "Actual                 \n",
      "0          12039    461\n",
      "1            676  11824\n"
     ]
    }
   ],
   "source": [
    "print('LSTM bidirectional sentiment classification - train accuracy:')\n",
    "y_train_pred = np.where(y_train_predclass > 0.5, 1, 0)\n",
    "print(round(accuracy_score(y_train, y_train_pred), 3))\n",
    "\n",
    "print('LSTM bidirectional sentiment classification - training data:')\n",
    "print(classification_report(y_train, y_train_pred))\n",
    "\n",
    "print('LSTM bidirectional sentiment classification - train confusion matrix:')\n",
    "print(pd.crosstab(y_train, y_train_pred, rownames=['Actual'], colnames=['Predicted']))"
   ]
  },
  {
   "cell_type": "code",
   "execution_count": 18,
   "metadata": {},
   "outputs": [
    {
     "name": "stdout",
     "output_type": "stream",
     "text": [
      "LSTM bidirectional sentiment classification - test accuracy:\n",
      "0.853\n",
      "LSTM bidirectional sentiment classification - testing data:\n",
      "              precision    recall  f1-score   support\n",
      "\n",
      "           0       0.84      0.88      0.86     12500\n",
      "           1       0.87      0.83      0.85     12500\n",
      "\n",
      "    accuracy                           0.85     25000\n",
      "   macro avg       0.85      0.85      0.85     25000\n",
      "weighted avg       0.85      0.85      0.85     25000\n",
      "\n",
      "LSTM bidirectional sentiment classification - test confusion matrix:\n",
      "Predicted      0      1\n",
      "Actual                 \n",
      "0          10970   1530\n",
      "1           2152  10348\n"
     ]
    }
   ],
   "source": [
    "print('LSTM bidirectional sentiment classification - test accuracy:')\n",
    "y_test_pred = np.where(y_test_predclass > 0.5, 1, 0)\n",
    "print(round(accuracy_score(y_test, y_test_pred), 3))\n",
    "\n",
    "print('LSTM bidirectional sentiment classification - testing data:')\n",
    "print(classification_report(y_test, y_test_pred))\n",
    "\n",
    "print('LSTM bidirectional sentiment classification - test confusion matrix:')\n",
    "print(pd.crosstab(y_test, y_test_pred, rownames=['Actual'], colnames=['Predicted']))"
   ]
  },
  {
   "cell_type": "code",
   "execution_count": null,
   "metadata": {},
   "outputs": [],
   "source": []
  }
 ],
 "metadata": {
  "kernelspec": {
   "display_name": "Python 3",
   "language": "python",
   "name": "python3"
  },
  "language_info": {
   "codemirror_mode": {
    "name": "ipython",
    "version": 3
   },
   "file_extension": ".py",
   "mimetype": "text/x-python",
   "name": "python",
   "nbconvert_exporter": "python",
   "pygments_lexer": "ipython3",
   "version": "3.8.5"
  }
 },
 "nbformat": 4,
 "nbformat_minor": 4
}
