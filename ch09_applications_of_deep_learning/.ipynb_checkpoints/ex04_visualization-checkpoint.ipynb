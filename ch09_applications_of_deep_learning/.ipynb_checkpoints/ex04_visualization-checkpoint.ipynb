{
 "cells": [
  {
   "cell_type": "markdown",
   "metadata": {},
   "source": [
    "# Visualization\n",
    "\n",
    "This example shows the visualization of high-dimensional words in 2D with neural word vector visualization."
   ]
  },
  {
   "cell_type": "code",
   "execution_count": 35,
   "metadata": {},
   "outputs": [],
   "source": [
    "# !pip3 install matplotlib\n",
    "from __future__ import print_function\n",
    "import os\n",
    "import nltk\n",
    "from nltk.corpus import stopwords\n",
    "from nltk.stem import WordNetLemmatizer\n",
    "from nltk import pos_tag\n",
    "from nltk.stem import PorterStemmer\n",
    "import string\n",
    "import numpy as np\n",
    "import pandas as pd\n",
    "import random\n",
    "from sklearn.model_selection import train_test_split\n",
    "from sklearn.preprocessing import OneHotEncoder\n",
    "import matplotlib.pyplot as plt"
   ]
  },
  {
   "cell_type": "code",
   "execution_count": 21,
   "metadata": {},
   "outputs": [],
   "source": [
    "def preprocessing(text):\n",
    "    text = text.lower()\n",
    "    text = \" \".join(\"\".join([\" \" if ch in string.punctuation else ch for ch in text]).split(\" \"))\n",
    "    tokens = [word for sent in nltk.sent_tokenize(text) for word in nltk.word_tokenize(sent)]\n",
    "    stopwds = set(stopwords.words('english'))\n",
    "    tokens = [token for token in tokens if token not in stopwds]\n",
    "    tokens = [word for word in tokens if len(word) >= 3]\n",
    "    \n",
    "    stemmer = PorterStemmer()\n",
    "    tokens = [stemmer.stem(word) for word in tokens]\n",
    "    tagged_corpus = pos_tag(tokens)\n",
    "    \n",
    "    noun_tags = 'NN NNP NNPS NNS'.split(' ')\n",
    "    verb_tags = 'VB VBD VBG VBN VBP VBZ'.split(' ')\n",
    "    \n",
    "    lemmatizer = WordNetLemmatizer()\n",
    "    \n",
    "    def prat_lemmatize(token, tag):\n",
    "        if tag in noun_tags:\n",
    "            return lemmatizer.lemmatize(token, 'n')\n",
    "        elif tag in verb_tags:\n",
    "            return lemmatizer.lemmatize(token, 'v')\n",
    "        else:\n",
    "            return lemmatizer.lemmatize(token, 'n')\n",
    "    \n",
    "    pre_proc_text = ' '.join([prat_lemmatize(token,tag) for token, tag in tagged_corpus])\n",
    "    return pre_proc_text"
   ]
  },
  {
   "cell_type": "code",
   "execution_count": 22,
   "metadata": {},
   "outputs": [
    {
     "data": {
      "text/plain": [
       "2726"
      ]
     },
     "execution_count": 22,
     "metadata": {},
     "output_type": "execute_result"
    }
   ],
   "source": [
    "lines = []\n",
    "with open('alice_in_wonderland.txt', 'r') as f:\n",
    "    for line in f:\n",
    "        line = line.strip()\n",
    "        if len(line) == 0:\n",
    "            continue\n",
    "        lines.append(preprocessing(line))\n",
    "len(lines)"
   ]
  },
  {
   "cell_type": "code",
   "execution_count": 25,
   "metadata": {},
   "outputs": [],
   "source": [
    "# Creates dictionary that is mapping of word to index and vice versa.\n",
    "# Models do not work on character/word input. Hence, we need to convert words into numeric equivalent."
   ]
  },
  {
   "cell_type": "code",
   "execution_count": 23,
   "metadata": {},
   "outputs": [],
   "source": [
    "import collections\n",
    "counter = collections.Counter()\n",
    "for line in lines:\n",
    "    for word in nltk.word_tokenize(line):\n",
    "        counter[word.lower()] += 1\n",
    "word2idx = {w: (i+1) for i, (w, _) in enumerate(counter.most_common())}\n",
    "idx2word = {v: k for k, v in word2idx.items()}"
   ]
  },
  {
   "cell_type": "code",
   "execution_count": 26,
   "metadata": {},
   "outputs": [],
   "source": [
    "# Applies word-to-integer mapping and extracts tri-grams from the embedding.\n",
    "# Skip-gram is the methodology in which the central word is connected to both left and right adjacent words for training."
   ]
  },
  {
   "cell_type": "code",
   "execution_count": 43,
   "metadata": {},
   "outputs": [],
   "source": [
    "xs = []\n",
    "ys = []\n",
    "\n",
    "for line in lines:\n",
    "    embedding = [word2idx[w.lower()] for w in nltk.word_tokenize(line)]\n",
    "    triples = list(nltk.trigrams(embedding))\n",
    "    w_lefts = [x[0] for x in triples]\n",
    "    w_centers = [x[1] for x in triples]\n",
    "    w_rights = [x[2] for x in triples]\n",
    "    xs.extend(w_centers)\n",
    "    ys.extend(w_lefts)\n",
    "    xs.extend(w_centers)\n",
    "    ys.extend(w_rights)"
   ]
  },
  {
   "cell_type": "code",
   "execution_count": 44,
   "metadata": {},
   "outputs": [
    {
     "name": "stdout",
     "output_type": "stream",
     "text": [
      "1786\n"
     ]
    }
   ],
   "source": [
    "print(len(word2idx))"
   ]
  },
  {
   "cell_type": "code",
   "execution_count": 46,
   "metadata": {},
   "outputs": [
    {
     "name": "stdout",
     "output_type": "stream",
     "text": [
      "(9707, 1396) (4161, 1396) (9707, 1725) (4161, 1725)\n"
     ]
    }
   ],
   "source": [
    "ohe = OneHotEncoder()\n",
    "X = ohe.fit_transform(np.array(xs).reshape(-1, 1)).todense()\n",
    "y = ohe.fit_transform(np.array(ys).reshape(-1, 1)).todense()\n",
    "X_train, X_test, y_train, y_test, xstr, xsts = train_test_split(X, y, xs, test_size=0.3, random_state=42)\n",
    "print(X_train.shape, X_test.shape, y_train.shape, y_test.shape)"
   ]
  },
  {
   "cell_type": "code",
   "execution_count": 47,
   "metadata": {},
   "outputs": [],
   "source": [
    "from keras.layers import Input, Dense, Dropout\n",
    "from keras.models import Model\n",
    "np.random.seed(42)\n",
    "\n",
    "BATCH_SIZE = 128\n",
    "NUM_EPOCHS = 20\n",
    "input_layer = Input(shape=(X_train.shape[1],), name='input')\n",
    "first_layer = Dense(300, activation='relu', name='first')(input_layer)\n",
    "first_dropout = Dropout(0.5, name='firstdout')(first_layer)\n",
    "\n",
    "second_layer = Dense(2, activation='relu', name='second')(first_dropout)\n",
    "\n",
    "third_layer = Dense(300, activation='relu', name='third')(second_layer)\n",
    "third_dropout = Dropout(0.5, name='thirdout')(third_layer)\n",
    "\n",
    "fourth_layer = Dense(y_train.shape[1], activation='softmax', name='fourth')(third_dropout)\n",
    "history = Model(input_layer, fourth_layer)\n",
    "history.compile(optimizer='rmsprop', loss='categorical_crossentropy', metrics=['accuracy'])"
   ]
  },
  {
   "cell_type": "code",
   "execution_count": 48,
   "metadata": {},
   "outputs": [
    {
     "name": "stdout",
     "output_type": "stream",
     "text": [
      "Epoch 1/20\n",
      "61/61 [==============================] - 2s 32ms/step - loss: 6.8765 - accuracy: 0.0386 - val_loss: 6.4302 - val_accuracy: 0.0479\n",
      "Epoch 2/20\n",
      "61/61 [==============================] - 2s 31ms/step - loss: 6.3931 - accuracy: 0.0435 - val_loss: 6.4441 - val_accuracy: 0.0479\n",
      "Epoch 3/20\n",
      "61/61 [==============================] - 2s 29ms/step - loss: 6.3444 - accuracy: 0.0420 - val_loss: 6.4708 - val_accuracy: 0.0479\n",
      "Epoch 4/20\n",
      "61/61 [==============================] - 1s 21ms/step - loss: 6.3178 - accuracy: 0.0434 - val_loss: 6.4999 - val_accuracy: 0.0479\n",
      "Epoch 5/20\n",
      "61/61 [==============================] - 1s 21ms/step - loss: 6.3148 - accuracy: 0.0437 - val_loss: 6.5218 - val_accuracy: 0.0479\n",
      "Epoch 6/20\n",
      "61/61 [==============================] - 3s 50ms/step - loss: 6.2947 - accuracy: 0.0438 - val_loss: 6.5400 - val_accuracy: 0.0479\n",
      "Epoch 7/20\n",
      "61/61 [==============================] - 2s 37ms/step - loss: 6.2852 - accuracy: 0.0438 - val_loss: 6.5575 - val_accuracy: 0.0479\n",
      "Epoch 8/20\n",
      "61/61 [==============================] - 2s 40ms/step - loss: 6.2740 - accuracy: 0.0435 - val_loss: 6.5779 - val_accuracy: 0.0479\n",
      "Epoch 9/20\n",
      "61/61 [==============================] - 3s 44ms/step - loss: 6.2617 - accuracy: 0.0466 - val_loss: 6.5647 - val_accuracy: 0.0541\n",
      "Epoch 10/20\n",
      "61/61 [==============================] - 3s 46ms/step - loss: 6.2486 - accuracy: 0.0505 - val_loss: 6.5796 - val_accuracy: 0.0541\n",
      "Epoch 11/20\n",
      "61/61 [==============================] - 5s 76ms/step - loss: 6.2351 - accuracy: 0.0505 - val_loss: 6.5579 - val_accuracy: 0.0541\n",
      "Epoch 12/20\n",
      "61/61 [==============================] - 3s 52ms/step - loss: 6.2124 - accuracy: 0.0502 - val_loss: 6.5779 - val_accuracy: 0.0546\n",
      "Epoch 13/20\n",
      "61/61 [==============================] - 3s 49ms/step - loss: 6.1962 - accuracy: 0.0525 - val_loss: 6.5674 - val_accuracy: 0.0561\n",
      "Epoch 14/20\n",
      "61/61 [==============================] - 3s 50ms/step - loss: 6.1796 - accuracy: 0.0534 - val_loss: 6.5631 - val_accuracy: 0.0561\n",
      "Epoch 15/20\n",
      "61/61 [==============================] - 3s 44ms/step - loss: 6.1668 - accuracy: 0.0516 - val_loss: 6.5892 - val_accuracy: 0.0561\n",
      "Epoch 16/20\n",
      "61/61 [==============================] - 2s 40ms/step - loss: 6.1506 - accuracy: 0.0518 - val_loss: 6.5922 - val_accuracy: 0.0556\n",
      "Epoch 17/20\n",
      "61/61 [==============================] - 2s 35ms/step - loss: 6.1336 - accuracy: 0.0525 - val_loss: 6.5762 - val_accuracy: 0.0566\n",
      "Epoch 18/20\n",
      "61/61 [==============================] - 2s 33ms/step - loss: 6.1192 - accuracy: 0.0532 - val_loss: 6.6172 - val_accuracy: 0.0541\n",
      "Epoch 19/20\n",
      "61/61 [==============================] - 2s 34ms/step - loss: 6.1100 - accuracy: 0.0537 - val_loss: 6.6049 - val_accuracy: 0.0536\n",
      "Epoch 20/20\n",
      "61/61 [==============================] - 1s 23ms/step - loss: 6.1002 - accuracy: 0.0546 - val_loss: 6.6164 - val_accuracy: 0.0561\n"
     ]
    },
    {
     "data": {
      "text/plain": [
       "<tensorflow.python.keras.callbacks.History at 0x14785ad60>"
      ]
     },
     "execution_count": 48,
     "metadata": {},
     "output_type": "execute_result"
    }
   ],
   "source": [
    "history.fit(X_train, y_train, batch_size=BATCH_SIZE, epochs=NUM_EPOCHS, verbose=1, validation_split=0.2)"
   ]
  },
  {
   "cell_type": "code",
   "execution_count": 68,
   "metadata": {},
   "outputs": [],
   "source": [
    "# Extracting encoder section of the model for prediction of latent variables.\n",
    "encoder = Model(history.input, history.get_layer('second').output)"
   ]
  },
  {
   "cell_type": "code",
   "execution_count": 69,
   "metadata": {},
   "outputs": [],
   "source": [
    "# Predicting latent variables with extracted encoder model.\n",
    "reduced_x = encoder.predict(X_test)"
   ]
  },
  {
   "cell_type": "code",
   "execution_count": 70,
   "metadata": {},
   "outputs": [],
   "source": [
    "# Converting the outputs into pandas data frame structure for better representation.\n",
    "final_pdframe = pd.DataFrame(reduced_x)\n",
    "final_pdframe.columns = ['xaxis', 'yaxis']\n",
    "final_pdframe['word_idx'] = xsts\n",
    "final_pdframe['word'] = final_pdframe['word_idx'].map(idx2word)"
   ]
  },
  {
   "cell_type": "code",
   "execution_count": 78,
   "metadata": {},
   "outputs": [],
   "source": [
    "vis_df = final_pdframe.sample(100)\n",
    "labels = list(vis_df['word'])\n",
    "xvals = list(vis_df['xaxis'])\n",
    "yvals = list(vis_df['yaxis'])"
   ]
  },
  {
   "cell_type": "code",
   "execution_count": 81,
   "metadata": {},
   "outputs": [
    {
     "data": {
      "image/png": "[encoded data removed]",
      "text/plain": [
       "<Figure size 576x576 with 1 Axes>"
      ]
     },
     "metadata": {
      "needs_background": "light"
     },
     "output_type": "display_data"
    }
   ],
   "source": [
    "# In inches.\n",
    "plt.figure(figsize=(8, 8))\n",
    "for i, label in enumerate(labels):\n",
    "    x = xvals[i]\n",
    "    y = yvals[i]\n",
    "    plt.scatter(x, y)\n",
    "    plt.annotate(label, xy=(x, y), xytext=(5, 2), textcoords='offset points', ha='right', va='bottom')\n",
    "plt.xlabel('Dimension 1')\n",
    "plt.ylabel('Dimension 2')\n",
    "plt.show()"
   ]
  }
 ],
 "metadata": {
  "kernelspec": {
   "display_name": "Python 3",
   "language": "python",
   "name": "python3"
  },
  "language_info": {
   "codemirror_mode": {
    "name": "ipython",
    "version": 3
   },
   "file_extension": ".py",
   "mimetype": "text/x-python",
   "name": "python",
   "nbconvert_exporter": "python",
   "pygments_lexer": "ipython3",
   "version": "3.8.5"
  }
 },
 "nbformat": 4,
 "nbformat_minor": 4
}
