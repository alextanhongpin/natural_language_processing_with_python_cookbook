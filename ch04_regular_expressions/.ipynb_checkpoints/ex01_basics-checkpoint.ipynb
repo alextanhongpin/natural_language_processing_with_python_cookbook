{
 "cells": [
  {
   "cell_type": "code",
   "execution_count": 1,
   "metadata": {},
   "outputs": [],
   "source": [
    "import re"
   ]
  },
  {
   "cell_type": "code",
   "execution_count": 2,
   "metadata": {},
   "outputs": [],
   "source": [
    "def text_match(text, patterns):\n",
    "    if re.search(patterns, text):\n",
    "        return 'Found a match'\n",
    "    return 'Not matched'"
   ]
  },
  {
   "cell_type": "code",
   "execution_count": 5,
   "metadata": {},
   "outputs": [
    {
     "name": "stdout",
     "output_type": "stream",
     "text": [
      "Found a match\n",
      "Found a match\n",
      "Found a match\n"
     ]
    }
   ],
   "source": [
    "# Zero or one.\n",
    "print(text_match('ac', 'ab?'))\n",
    "print(text_match('abc', 'ab?'))\n",
    "print(text_match('abbc', 'ab?'))"
   ]
  },
  {
   "cell_type": "code",
   "execution_count": 6,
   "metadata": {},
   "outputs": [
    {
     "name": "stdout",
     "output_type": "stream",
     "text": [
      "Found a match\n",
      "Found a match\n",
      "Found a match\n"
     ]
    }
   ],
   "source": [
    "# One, zero or more.\n",
    "print(text_match('ac', 'ab*'))\n",
    "print(text_match('abc', 'ab*'))\n",
    "print(text_match('abbc', 'ab*'))"
   ]
  },
  {
   "cell_type": "code",
   "execution_count": 7,
   "metadata": {},
   "outputs": [
    {
     "name": "stdout",
     "output_type": "stream",
     "text": [
      "Not matched\n",
      "Found a match\n",
      "Found a match\n"
     ]
    }
   ],
   "source": [
    "# One or more.\n",
    "print(text_match('ac', 'ab+'))\n",
    "print(text_match('abc', 'ab+'))\n",
    "print(text_match('abbc', 'ab+'))"
   ]
  },
  {
   "cell_type": "code",
   "execution_count": null,
   "metadata": {},
   "outputs": [],
   "source": []
  }
 ],
 "metadata": {
  "kernelspec": {
   "display_name": "Python 3",
   "language": "python",
   "name": "python3"
  },
  "language_info": {
   "codemirror_mode": {
    "name": "ipython",
    "version": 3
   },
   "file_extension": ".py",
   "mimetype": "text/x-python",
   "name": "python",
   "nbconvert_exporter": "python",
   "pygments_lexer": "ipython3",
   "version": "3.7.3"
  }
 },
 "nbformat": 4,
 "nbformat_minor": 4
}
