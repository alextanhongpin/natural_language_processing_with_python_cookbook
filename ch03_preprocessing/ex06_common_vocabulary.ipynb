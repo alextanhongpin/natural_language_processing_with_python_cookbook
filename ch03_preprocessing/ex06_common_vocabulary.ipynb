{
 "cells": [
  {
   "cell_type": "markdown",
   "metadata": {},
   "source": [
    "# Common Vocabulary\n",
    "\n",
    "Processing two short stories and extracting the common vocabulary between two of them.\n",
    "\n",
    "Stories are taken from http://www.english-for-students.com/"
   ]
  },
  {
   "cell_type": "code",
   "execution_count": 23,
   "metadata": {},
   "outputs": [],
   "source": [
    "story1 = \"\"\"\n",
    "A Wise Old Owl\n",
    "\n",
    "There was an old owl that lived in an oak. Everyday he saw incidents happening around him. Yesterday he saw a boy helping an old man to carry a heavy basket. Today he saw a girl shouting at her mother. The more he saw the less he spoke.\n",
    "\n",
    "\n",
    "As he spoke less, he heard more. He heard people talking and telling stories. He heard a woman saying that an elephant jumped over a fence. He also heard a man saying that he had never made a mistake.\n",
    "\n",
    "\n",
    "The old owl had seen and heard about what happened to people. Some became better and some became worse. But the old owl had become wiser each and every day.\n",
    "\n",
    "\n",
    "Moral of the story :\n",
    "\n",
    "\n",
    "You should be observant, talk less but listen more. This will make you a wise person.\"\"\"\n",
    "\n",
    "story2 = \"\"\"Baa Baa Black Sheep\n",
    "\n",
    "There lived a black sheep in a nearby village. Every spring, he shaved his black wool and sold it to the villagers. The villagers made sweaters and socks from his black wool.\n",
    "\n",
    "\n",
    "One day, the black sheep noticed that he had some more wool left. He thought, ‘It would be such a waste if nobody wants to buy the wool.’\n",
    "\n",
    "\n",
    "That afternoon, an old man came over to his wooden shed to see him. He wanted one bag full of the black sheep’s wool. Then an old woman came over. She also wanted a bag full of wool. A short while later, a little boy arrived. He also wanted one bag full of wool.\n",
    "\n",
    "\n",
    "Therefore, the black sheep prepared three bags full of wool for them. He was happy that all of his wool was sold off.\n",
    "\n",
    "\n",
    "Moral of the story :\n",
    "\n",
    "\n",
    "We should be generous and helpful with what we have. We should be patient and not give up.\"\"\""
   ]
  },
  {
   "cell_type": "code",
   "execution_count": 24,
   "metadata": {},
   "outputs": [],
   "source": [
    "def process(txt):\n",
    "    txt = txt.replace(\",\", \"\")\n",
    "    txt = txt.replace(\"\\n\", \"\")\n",
    "    txt = txt.replace(\".\", \"\")\n",
    "    txt = txt.replace('\"', '')\n",
    "    txt = txt.replace(\"!\", \"\")\n",
    "    txt = txt.replace(\"?\", \"\")\n",
    "    return txt.casefold()"
   ]
  },
  {
   "cell_type": "code",
   "execution_count": 25,
   "metadata": {},
   "outputs": [],
   "source": [
    "def tokenize(txt):\n",
    "    return set(txt.split(' '))"
   ]
  },
  {
   "cell_type": "code",
   "execution_count": 26,
   "metadata": {},
   "outputs": [
    {
     "data": {
      "text/plain": [
       "{'He',\n",
       " 'The',\n",
       " 'a',\n",
       " 'also',\n",
       " 'an',\n",
       " 'and',\n",
       " 'be',\n",
       " 'boy',\n",
       " 'had',\n",
       " 'he',\n",
       " 'him.',\n",
       " 'in',\n",
       " 'lived',\n",
       " 'made',\n",
       " 'man',\n",
       " 'more',\n",
       " 'of',\n",
       " 'old',\n",
       " 'over',\n",
       " 'should',\n",
       " 'some',\n",
       " 'story',\n",
       " 'that',\n",
       " 'the',\n",
       " 'to',\n",
       " 'was',\n",
       " 'what',\n",
       " 'woman'}"
      ]
     },
     "execution_count": 26,
     "metadata": {},
     "output_type": "execute_result"
    }
   ],
   "source": [
    "story1, story2 = tokenize(story1), tokenize(story2)\n",
    "story1 & story2"
   ]
  }
 ],
 "metadata": {
  "kernelspec": {
   "display_name": "Python 3",
   "language": "python",
   "name": "python3"
  },
  "language_info": {
   "codemirror_mode": {
    "name": "ipython",
    "version": 3
   },
   "file_extension": ".py",
   "mimetype": "text/x-python",
   "name": "python",
   "nbconvert_exporter": "python",
   "pygments_lexer": "ipython3",
   "version": "3.7.3"
  }
 },
 "nbformat": 4,
 "nbformat_minor": 4
}
