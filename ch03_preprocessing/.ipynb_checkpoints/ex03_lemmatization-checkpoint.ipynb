{
 "cells": [
  {
   "cell_type": "markdown",
   "metadata": {},
   "source": [
    "# Lemmatization\n",
    "\n",
    "A lemma is a lexicon headword or more simply, the base form of a word."
   ]
  },
  {
   "cell_type": "code",
   "execution_count": 2,
   "metadata": {},
   "outputs": [],
   "source": [
    "from nltk import word_tokenize, PorterStemmer, WordNetLemmatizer"
   ]
  },
  {
   "cell_type": "code",
   "execution_count": 5,
   "metadata": {},
   "outputs": [],
   "source": [
    "raw_txt = \"\"\"Weathering with You (Japanese: 天気の子, Hepburn: Tenki no Ko, lit. \"Child of Weather\") is a 2019 Japanese animated romance/fantasy film written and directed by Makoto Shinkai. Set in Japan during a period of exceptionally rainy weather, the film tells the story of a high-school boy who runs away from his rural home to Tokyo and befriends an orphan girl who has the ability to manipulate the weather. The film was produced by Genki Kawamura, and the music was composed by Radwimps.\n",
    "\n",
    "The film was released in Japan on July 19, 2019; the previous day, a novel adaptation written by Shinkai—one of his original works—was published. A manga adaptation illustrated by Watari Kubota was first serialized in Kodansha's Afternoon on July 25 the same year. It was released in 140 countries throughout the world, earning over US$193.1 million worldwide and ¥14.06 billion in Japan. The film was selected as the Japanese entry for Best International Feature Film at the 92nd Academy Awards. It also received four Annie Award nominations including Best Independent Animated Feature.\"\"\""
   ]
  },
  {
   "cell_type": "code",
   "execution_count": 6,
   "metadata": {},
   "outputs": [],
   "source": [
    "tokens = word_tokenize(raw_txt)"
   ]
  },
  {
   "cell_type": "code",
   "execution_count": 19,
   "metadata": {},
   "outputs": [
    {
     "data": {
      "text/plain": [
       "['film',\n",
       " 'at',\n",
       " 'the',\n",
       " '92nd',\n",
       " 'academi',\n",
       " 'award',\n",
       " '.',\n",
       " 'It',\n",
       " 'also',\n",
       " 'receiv',\n",
       " 'four',\n",
       " 'anni',\n",
       " 'award',\n",
       " 'nomin',\n",
       " 'includ',\n",
       " 'best',\n",
       " 'independ',\n",
       " 'anim',\n",
       " 'featur',\n",
       " '.']"
      ]
     },
     "execution_count": 19,
     "metadata": {},
     "output_type": "execute_result"
    }
   ],
   "source": [
    "porter = PorterStemmer()\n",
    "porter_stems = [porter.stem(t) for t in tokens]\n",
    "porter_stems[-20:]"
   ]
  },
  {
   "cell_type": "code",
   "execution_count": 18,
   "metadata": {},
   "outputs": [
    {
     "data": {
      "text/plain": [
       "['Film',\n",
       " 'at',\n",
       " 'the',\n",
       " '92nd',\n",
       " 'Academy',\n",
       " 'Awards',\n",
       " '.',\n",
       " 'It',\n",
       " 'also',\n",
       " 'received',\n",
       " 'four',\n",
       " 'Annie',\n",
       " 'Award',\n",
       " 'nomination',\n",
       " 'including',\n",
       " 'Best',\n",
       " 'Independent',\n",
       " 'Animated',\n",
       " 'Feature',\n",
       " '.']"
      ]
     },
     "execution_count": 18,
     "metadata": {},
     "output_type": "execute_result"
    }
   ],
   "source": [
    "lemmatizer = WordNetLemmatizer()\n",
    "lemmas = [lemmatizer.lemmatize(t) for t in tokens]\n",
    "lemmas[-20:]"
   ]
  }
 ],
 "metadata": {
  "kernelspec": {
   "display_name": "Python 3",
   "language": "python",
   "name": "python3"
  },
  "language_info": {
   "codemirror_mode": {
    "name": "ipython",
    "version": 3
   },
   "file_extension": ".py",
   "mimetype": "text/x-python",
   "name": "python",
   "nbconvert_exporter": "python",
   "pygments_lexer": "ipython3",
   "version": "3.7.3"
  }
 },
 "nbformat": 4,
 "nbformat_minor": 4
}
