{
 "cells": [
  {
   "cell_type": "markdown",
   "metadata": {},
   "source": [
    "# Tokenization"
   ]
  },
  {
   "cell_type": "code",
   "execution_count": 12,
   "metadata": {},
   "outputs": [],
   "source": [
    "from nltk.tokenize import LineTokenizer, SpaceTokenizer, TweetTokenizer\n",
    "from nltk import word_tokenize"
   ]
  },
  {
   "cell_type": "code",
   "execution_count": 13,
   "metadata": {},
   "outputs": [],
   "source": [
    "txt = \"\"\"Weathering with You (Japanese: 天気の子, Hepburn: Tenki no Ko, lit. \"Child of Weather\") is a 2019 Japanese animated romance/fantasy film written and directed by Makoto Shinkai. Set in Japan during a period of exceptionally rainy weather, the film tells the story of a high-school boy who runs away from his rural home to Tokyo and befriends an orphan girl who has the ability to manipulate the weather. The film was produced by Genki Kawamura, and the music was composed by Radwimps.\n",
    "\n",
    "The film was released in Japan on July 19, 2019; the previous day, a novel adaptation written by Shinkai—one of his original works—was published. A manga adaptation illustrated by Watari Kubota was first serialized in Kodansha's Afternoon on July 25 the same year. It was released in 140 countries throughout the world, earning over US$193.1 million worldwide and ¥14.06 billion in Japan. The film was selected as the Japanese entry for Best International Feature Film at the 92nd Academy Awards. It also received four Annie Award nominations including Best Independent Animated Feature.\"\"\""
   ]
  },
  {
   "cell_type": "code",
   "execution_count": 14,
   "metadata": {},
   "outputs": [
    {
     "data": {
      "text/plain": [
       "2"
      ]
     },
     "execution_count": 14,
     "metadata": {},
     "output_type": "execute_result"
    }
   ],
   "source": [
    "line = LineTokenizer()\n",
    "lines = line.tokenize(txt)\n",
    "len(lines)"
   ]
  },
  {
   "cell_type": "code",
   "execution_count": 15,
   "metadata": {},
   "outputs": [
    {
     "name": "stdout",
     "output_type": "stream",
     "text": [
      "Weathering with You (Japanese: 天気の子, Hepburn: Tenki no Ko, lit. \"Child of Weather\") is a 2019 Japanese animated romance/fantasy film written and directed by Makoto Shinkai. Set in Japan during a period of exceptionally rainy weather, the film tells the story of a high-school boy who runs away from his rural home to Tokyo and befriends an orphan girl who has the ability to manipulate the weather. The film was produced by Genki Kawamura, and the music was composed by Radwimps.\n",
      "\n",
      "The film was released in Japan on July 19, 2019; the previous day, a novel adaptation written by Shinkai—one of his original works—was published. A manga adaptation illustrated by Watari Kubota was first serialized in Kodansha's Afternoon on July 25 the same year. It was released in 140 countries throughout the world, earning over US$193.1 million worldwide and ¥14.06 billion in Japan. The film was selected as the Japanese entry for Best International Feature Film at the 92nd Academy Awards. It also received four Annie Award nominations including Best Independent Animated Feature.\n",
      "\n"
     ]
    }
   ],
   "source": [
    "for l in lines:\n",
    "    print(l)\n",
    "    print()"
   ]
  },
  {
   "cell_type": "code",
   "execution_count": 17,
   "metadata": {},
   "outputs": [
    {
     "data": {
      "text/plain": [
       "['Weathering', 'with', 'You', '(Japanese:', '天気の子,']"
      ]
     },
     "execution_count": 17,
     "metadata": {},
     "output_type": "execute_result"
    }
   ],
   "source": [
    "space = SpaceTokenizer()\n",
    "space.tokenize(txt)[:5]"
   ]
  },
  {
   "cell_type": "code",
   "execution_count": 19,
   "metadata": {},
   "outputs": [
    {
     "data": {
      "text/plain": [
       "['Weathering', 'with', 'You', '(', 'Japanese']"
      ]
     },
     "execution_count": 19,
     "metadata": {},
     "output_type": "execute_result"
    }
   ],
   "source": [
    "word_tokenize(txt)[:5]"
   ]
  },
  {
   "cell_type": "code",
   "execution_count": 24,
   "metadata": {},
   "outputs": [
    {
     "data": {
      "text/plain": [
       "['This', 'is', 'a', 'cool', '#dummysmiley', ':)']"
      ]
     },
     "execution_count": 24,
     "metadata": {},
     "output_type": "execute_result"
    }
   ],
   "source": [
    "tweet_txt = 'This is a cool #dummysmiley :)'\n",
    "tweet = TweetTokenizer()\n",
    "tweet.tokenize(tweet_txt)"
   ]
  },
  {
   "cell_type": "code",
   "execution_count": 25,
   "metadata": {},
   "outputs": [
    {
     "data": {
      "text/plain": [
       "['This', 'is', 'a', 'cool', '#', 'dummysmiley', ':', ')']"
      ]
     },
     "execution_count": 25,
     "metadata": {},
     "output_type": "execute_result"
    }
   ],
   "source": [
    "word_tokenize(tweet_txt)"
   ]
  }
 ],
 "metadata": {
  "kernelspec": {
   "display_name": "Python 3",
   "language": "python",
   "name": "python3"
  },
  "language_info": {
   "codemirror_mode": {
    "name": "ipython",
    "version": 3
   },
   "file_extension": ".py",
   "mimetype": "text/x-python",
   "name": "python",
   "nbconvert_exporter": "python",
   "pygments_lexer": "ipython3",
   "version": "3.7.3"
  }
 },
 "nbformat": 4,
 "nbformat_minor": 4
}
