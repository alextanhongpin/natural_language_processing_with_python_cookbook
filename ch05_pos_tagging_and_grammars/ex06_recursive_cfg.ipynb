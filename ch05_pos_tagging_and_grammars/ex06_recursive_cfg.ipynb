{
 "cells": [
  {
   "cell_type": "markdown",
   "metadata": {},
   "source": [
    "# Recursive CFG\n",
    "\n",
    "Recursive CFGs are a special type of CFG where the tokens on the left-hand side are present on the right-hand side of a production rule.\n",
    "\n",
    "Palindromes are the best example of recursive CFG. We can always write a recursive CFG for palindromes in a given language."
   ]
  },
  {
   "cell_type": "code",
   "execution_count": 1,
   "metadata": {},
   "outputs": [],
   "source": [
    "import nltk\n",
    "import string\n",
    "from nltk.parse.generate import generate"
   ]
  },
  {
   "cell_type": "code",
   "execution_count": 2,
   "metadata": {},
   "outputs": [],
   "source": [
    "productions = [\n",
    "    'ROOT -> WORD',\n",
    "    \"WORD -> ' '\"\n",
    "]\n",
    "\n",
    "alphabets = list(string.digits)\n",
    "for alphabet in alphabets:\n",
    "    productions.append(f\"WORD -> '{alphabet}' WORD '{alphabet}'\")\n",
    "\n",
    "grammar_string = '\\n'.join(productions)\n",
    "grammar = nltk.CFG.fromstring(grammar_string)"
   ]
  },
  {
   "cell_type": "code",
   "execution_count": 3,
   "metadata": {},
   "outputs": [
    {
     "name": "stdout",
     "output_type": "stream",
     "text": [
      "Palindrome: , size: 0\n",
      "Palindrome: 00, size: 2\n",
      "Palindrome: 0000, size: 4\n",
      "Palindrome: 0110, size: 4\n",
      "Palindrome: 0220, size: 4\n"
     ]
    }
   ],
   "source": [
    "for sentence in generate(grammar, n=5, depth=5):\n",
    "    palindrome = ''.join(sentence).replace(' ', '')\n",
    "    print('Palindrome: {}, size: {}'.format(palindrome, len(palindrome)))"
   ]
  }
 ],
 "metadata": {
  "kernelspec": {
   "display_name": "Python 3",
   "language": "python",
   "name": "python3"
  },
  "language_info": {
   "codemirror_mode": {
    "name": "ipython",
    "version": 3
   },
   "file_extension": ".py",
   "mimetype": "text/x-python",
   "name": "python",
   "nbconvert_exporter": "python",
   "pygments_lexer": "ipython3",
   "version": "3.7.3"
  }
 },
 "nbformat": 4,
 "nbformat_minor": 4
}
