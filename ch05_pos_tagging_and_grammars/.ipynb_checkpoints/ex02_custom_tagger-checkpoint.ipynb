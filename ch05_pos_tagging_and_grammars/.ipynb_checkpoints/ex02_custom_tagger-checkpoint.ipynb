{
 "cells": [
  {
   "cell_type": "code",
   "execution_count": 1,
   "metadata": {},
   "outputs": [],
   "source": [
    "import nltk"
   ]
  },
  {
   "cell_type": "code",
   "execution_count": 3,
   "metadata": {},
   "outputs": [],
   "source": [
    "def learn_default_tagger(sentence):\n",
    "    tokens = nltk.word_tokenize(sentence)\n",
    "    tagger = nltk.DefaultTagger('NN') # Set unknowns to nouns, NN\n",
    "    pos_enabled_tags = tagger.tag(tokens)\n",
    "    return pos_enabled_tags"
   ]
  },
  {
   "cell_type": "code",
   "execution_count": 9,
   "metadata": {},
   "outputs": [],
   "source": [
    "def learn_regex_tagger(sentence):\n",
    "    custom_patterns = [\n",
    "        (r'.*ing$', 'ADJECTIVE'), # running\n",
    "        (r'.*ly$', 'ADVERB'), # willingly\n",
    "        (r'.*ion$', 'NOUN'), # intimation\n",
    "        (r'(.*ate|.*en|is)$', 'VERB'), # terminate, darken, lighten\n",
    "        (r'^an$', 'INDEFINITE-ARTICLE'), # terminate\n",
    "        (r'^(with|on|at)$', 'PREPOSITION'), # on\n",
    "        (r'^\\-?[0-9]+(\\.[0-9]+)$', 'NUMBER'), # -1.0, 13245.123\n",
    "        (r'.*$', None)\n",
    "    ]\n",
    "    tagger = nltk.RegexpTagger(custom_patterns)\n",
    "    tokens = nltk.word_tokenize(sentence)\n",
    "    pos_enabled_tags = tagger.tag(tokens)\n",
    "    return pos_enabled_tags"
   ]
  },
  {
   "cell_type": "code",
   "execution_count": 5,
   "metadata": {},
   "outputs": [],
   "source": [
    "def learn_lookup_tagger(sentence):\n",
    "    mapping = {\n",
    "        '.': '.',\n",
    "        'place': 'NN',\n",
    "        'on': 'IN',\n",
    "        'earth': 'NN',\n",
    "        'Mysore': 'NNP',\n",
    "        'is': 'VBZ',\n",
    "        'an': 'DT',\n",
    "        'amazing': 'JJ'\n",
    "    }\n",
    "    tagger = nltk.UnigramTagger(model=mapping)\n",
    "    tokens = nltk.word_tokenize(sentence)\n",
    "    pos_enabled_tags = tagger.tag(tokens)\n",
    "    return pos_enabled_tags"
   ]
  },
  {
   "cell_type": "code",
   "execution_count": 6,
   "metadata": {},
   "outputs": [],
   "source": [
    "test_sentence = 'Mysore is an amazing place on earth. I have visited Mysore 10 times.'"
   ]
  },
  {
   "cell_type": "code",
   "execution_count": 7,
   "metadata": {},
   "outputs": [
    {
     "data": {
      "text/plain": [
       "[('Mysore', 'NN'),\n",
       " ('is', 'NN'),\n",
       " ('an', 'NN'),\n",
       " ('amazing', 'NN'),\n",
       " ('place', 'NN'),\n",
       " ('on', 'NN'),\n",
       " ('earth', 'NN'),\n",
       " ('.', 'NN'),\n",
       " ('I', 'NN'),\n",
       " ('have', 'NN'),\n",
       " ('visited', 'NN'),\n",
       " ('Mysore', 'NN'),\n",
       " ('10', 'NN'),\n",
       " ('times', 'NN'),\n",
       " ('.', 'NN')]"
      ]
     },
     "execution_count": 7,
     "metadata": {},
     "output_type": "execute_result"
    }
   ],
   "source": [
    "learn_default_tagger(test_sentence)"
   ]
  },
  {
   "cell_type": "code",
   "execution_count": 10,
   "metadata": {},
   "outputs": [
    {
     "data": {
      "text/plain": [
       "[('Mysore', None),\n",
       " ('is', 'VERB'),\n",
       " ('an', 'INDEFINITE-ARTICLE'),\n",
       " ('amazing', 'ADJECTIVE'),\n",
       " ('place', None),\n",
       " ('on', 'PREPOSITION'),\n",
       " ('earth', None),\n",
       " ('.', None),\n",
       " ('I', None),\n",
       " ('have', None),\n",
       " ('visited', None),\n",
       " ('Mysore', None),\n",
       " ('10', None),\n",
       " ('times', None),\n",
       " ('.', None)]"
      ]
     },
     "execution_count": 10,
     "metadata": {},
     "output_type": "execute_result"
    }
   ],
   "source": [
    "learn_regex_tagger(test_sentence)"
   ]
  },
  {
   "cell_type": "code",
   "execution_count": 12,
   "metadata": {},
   "outputs": [
    {
     "data": {
      "text/plain": [
       "[('Mysore', 'NNP'),\n",
       " ('is', 'VBZ'),\n",
       " ('an', 'DT'),\n",
       " ('amazing', 'JJ'),\n",
       " ('place', 'NN'),\n",
       " ('on', 'IN'),\n",
       " ('earth', 'NN'),\n",
       " ('.', '.'),\n",
       " ('I', None),\n",
       " ('have', None),\n",
       " ('visited', None),\n",
       " ('Mysore', 'NNP'),\n",
       " ('10', None),\n",
       " ('times', None),\n",
       " ('.', '.')]"
      ]
     },
     "execution_count": 12,
     "metadata": {},
     "output_type": "execute_result"
    }
   ],
   "source": [
    "learn_lookup_tagger(test_sentence)"
   ]
  }
 ],
 "metadata": {
  "kernelspec": {
   "display_name": "Python 3",
   "language": "python",
   "name": "python3"
  },
  "language_info": {
   "codemirror_mode": {
    "name": "ipython",
    "version": 3
   },
   "file_extension": ".py",
   "mimetype": "text/x-python",
   "name": "python",
   "nbconvert_exporter": "python",
   "pygments_lexer": "ipython3",
   "version": "3.7.3"
  }
 },
 "nbformat": 4,
 "nbformat_minor": 4
}
