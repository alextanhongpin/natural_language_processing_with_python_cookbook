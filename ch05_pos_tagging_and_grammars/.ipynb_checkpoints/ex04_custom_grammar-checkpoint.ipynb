{
 "cells": [
  {
   "cell_type": "markdown",
   "metadata": {},
   "source": [
    "# Custom Grammar \n",
    "\n",
    "Writing rules in Backus-Naur form (BNF) notation"
   ]
  },
  {
   "cell_type": "code",
   "execution_count": 3,
   "metadata": {},
   "outputs": [],
   "source": [
    "import nltk\n",
    "import string\n",
    "from nltk.parse.generate import generate\n",
    "import sys"
   ]
  },
  {
   "cell_type": "code",
   "execution_count": 5,
   "metadata": {},
   "outputs": [
    {
     "name": "stdout",
     "output_type": "stream",
     "text": [
      "ROOT -> WORD\n",
      "WORD -> ' '\n",
      "WORD -> NUMBER LETTER\n",
      "WORD -> LETTER NUMBER\n",
      "NUMBER -> '0'\n",
      "NUMBER -> '1'\n",
      "NUMBER -> '2'\n",
      "NUMBER -> '3'\n",
      "LETTER -> 'a' | 'b' | 'c' | 'd'\n"
     ]
    }
   ],
   "source": [
    "productions = [\n",
    "    \"ROOT -> WORD\",\n",
    "    \"WORD -> ' '\",\n",
    "    \"WORD -> NUMBER LETTER\",\n",
    "    \"WORD -> LETTER NUMBER\"\n",
    "]\n",
    "\n",
    "digits = list(string.digits)\n",
    "for digit in digits[:4]:\n",
    "    productions.append(f\"NUMBER -> '{digit}'\")\n",
    "\n",
    "letters = \"' | '\".join(list(string.ascii_lowercase)[:4])\n",
    "productions.append(f\"LETTER -> '{letters}'\")\n",
    "grammar_string = '\\n'.join(productions)\n",
    "print(grammar_string)"
   ]
  },
  {
   "cell_type": "code",
   "execution_count": 6,
   "metadata": {},
   "outputs": [
    {
     "data": {
      "text/plain": [
       "<Grammar with 12 productions>"
      ]
     },
     "execution_count": 6,
     "metadata": {},
     "output_type": "execute_result"
    }
   ],
   "source": [
    "grammar = nltk.CFG.fromstring(grammar_string)\n",
    "grammar"
   ]
  },
  {
   "cell_type": "code",
   "execution_count": 7,
   "metadata": {},
   "outputs": [
    {
     "name": "stdout",
     "output_type": "stream",
     "text": [
      "Generated word: , size: 0\n",
      "Generated word: 0a, size: 2\n",
      "Generated word: 0b, size: 2\n",
      "Generated word: 0c, size: 2\n",
      "Generated word: 0d, size: 2\n"
     ]
    }
   ],
   "source": [
    "for sentence in generate(grammar, n=5, depth=5):\n",
    "    palindrome = ''.join(sentence).replace(\" \", '')\n",
    "    print('Generated word: {}, size: {}'.format(palindrome, len(palindrome)))"
   ]
  }
 ],
 "metadata": {
  "kernelspec": {
   "display_name": "Python 3",
   "language": "python",
   "name": "python3"
  },
  "language_info": {
   "codemirror_mode": {
    "name": "ipython",
    "version": 3
   },
   "file_extension": ".py",
   "mimetype": "text/x-python",
   "name": "python",
   "nbconvert_exporter": "python",
   "pygments_lexer": "ipython3",
   "version": "3.7.3"
  }
 },
 "nbformat": 4,
 "nbformat_minor": 4
}
