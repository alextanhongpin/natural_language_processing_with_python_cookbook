{
 "cells": [
  {
   "cell_type": "code",
   "execution_count": 1,
   "metadata": {},
   "outputs": [],
   "source": [
    "import nltk\n",
    "import pickle"
   ]
  },
  {
   "cell_type": "code",
   "execution_count": 3,
   "metadata": {},
   "outputs": [],
   "source": [
    "def sample_data():\n",
    "    return [\n",
    "        'Bangalore is the capital of Karnataka.',\n",
    "        'Steve Jobs was the CEO of Apple.',\n",
    "        'iPhone was Invented by Apple.',\n",
    "        'Books can be purchased in Market.'\n",
    "    ]"
   ]
  },
  {
   "cell_type": "code",
   "execution_count": 4,
   "metadata": {},
   "outputs": [],
   "source": [
    "def build_dictionary():\n",
    "    dictionary = {}\n",
    "    for sent in sample_data():\n",
    "        pos_tags = nltk.pos_tag(nltk.word_tokenize(sent))\n",
    "        for value, pos in pos_tags:\n",
    "            dictionary[value] = pos\n",
    "    return dictionary"
   ]
  },
  {
   "cell_type": "code",
   "execution_count": 5,
   "metadata": {},
   "outputs": [],
   "source": [
    "def save_tagger(tagger, filename):\n",
    "    with open(filename, 'wb') as f:\n",
    "        pickle.dump(tagger, f)"
   ]
  },
  {
   "cell_type": "code",
   "execution_count": 6,
   "metadata": {},
   "outputs": [],
   "source": [
    "def save_training_model(filename):\n",
    "    tagger = nltk.UnigramTagger(model=build_dictionary())\n",
    "    save_tagger(tagger, filename)"
   ]
  },
  {
   "cell_type": "code",
   "execution_count": 7,
   "metadata": {},
   "outputs": [],
   "source": [
    "def load_tagger(filename):\n",
    "    return pickle.load(open(filename, 'rb'))"
   ]
  },
  {
   "cell_type": "code",
   "execution_count": 8,
   "metadata": {},
   "outputs": [
    {
     "data": {
      "text/plain": [
       "[('Iphone', None),\n",
       " ('is', 'VBZ'),\n",
       " ('purchased', 'VBN'),\n",
       " ('by', 'IN'),\n",
       " ('Steve', 'NNP'),\n",
       " ('Jobs', 'NNP'),\n",
       " ('in', 'IN'),\n",
       " ('Bangalore', 'NNP'),\n",
       " ('Market', 'NNP')]"
      ]
     },
     "execution_count": 8,
     "metadata": {},
     "output_type": "execute_result"
    }
   ],
   "source": [
    "sentence = 'Iphone is purchased by Steve Jobs in Bangalore Market'\n",
    "filename = 'tagger.pickle'\n",
    "\n",
    "save_training_model(filename)\n",
    "tagger = load_tagger(filename)\n",
    "tagger.tag(nltk.word_tokenize(sentence))"
   ]
  }
 ],
 "metadata": {
  "kernelspec": {
   "display_name": "Python 3",
   "language": "python",
   "name": "python3"
  },
  "language_info": {
   "codemirror_mode": {
    "name": "ipython",
    "version": 3
   },
   "file_extension": ".py",
   "mimetype": "text/x-python",
   "name": "python",
   "nbconvert_exporter": "python",
   "pygments_lexer": "ipython3",
   "version": "3.7.3"
  }
 },
 "nbformat": 4,
 "nbformat_minor": 4
}
