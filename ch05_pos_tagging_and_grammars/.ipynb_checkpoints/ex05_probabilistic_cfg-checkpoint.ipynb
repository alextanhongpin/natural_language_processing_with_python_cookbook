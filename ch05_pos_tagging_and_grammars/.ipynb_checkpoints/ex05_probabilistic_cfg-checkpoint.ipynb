{
 "cells": [
  {
   "cell_type": "markdown",
   "metadata": {},
   "source": [
    "# Probabilistic CFG\n",
    "\n",
    "Probabilistic CFG is a special type of CFG in which the sum of all the probabilities for the non-terminal tokens (left-hand-side) should equal to one."
   ]
  },
  {
   "cell_type": "code",
   "execution_count": 2,
   "metadata": {},
   "outputs": [],
   "source": [
    "import nltk\n",
    "from nltk.parse.generate import generate\n",
    "\n",
    "productions = [\n",
    "    'ROOT -> WORD [1.0]',\n",
    "    'WORD -> P1 [0.25]',\n",
    "    'WORD -> P1 P2 [0.25]',\n",
    "    'WORD -> P1 P2 P3 [0.25]',\n",
    "    'WORD -> P1 P2 P3 P4 [0.25]',\n",
    "    \"P1 -> 'A' [1.0]\",\n",
    "    \"P2 -> 'B' [0.5]\",\n",
    "    \"P2 -> 'C' [0.5]\",\n",
    "    \"P3 -> 'D' [0.3]\",\n",
    "    \"P3 -> 'E' [0.3]\",\n",
    "    \"P3 -> 'F' [0.4]\",\n",
    "    \"P4 -> 'G' [0.9]\",\n",
    "    \"P4 -> 'H' [0.1]\",\n",
    "]\n",
    "\n",
    "grammar_string = '\\n'.join(productions)\n",
    "grammar = nltk.PCFG.fromstring(grammar_string)"
   ]
  },
  {
   "cell_type": "code",
   "execution_count": 3,
   "metadata": {},
   "outputs": [
    {
     "name": "stdout",
     "output_type": "stream",
     "text": [
      "String: A, Size: 1\n",
      "String: AB, Size: 2\n",
      "String: AC, Size: 2\n",
      "String: ABD, Size: 3\n",
      "String: ABE, Size: 3\n",
      "String: ABF, Size: 3\n",
      "String: ACD, Size: 3\n",
      "String: ACE, Size: 3\n",
      "String: ACF, Size: 3\n",
      "String: ABDG, Size: 4\n"
     ]
    }
   ],
   "source": [
    "for sentence in generate(grammar, n=10, depth=5):\n",
    "    palindrome = ''.join(sentence).replace(' ', '')\n",
    "    print('String: {}, Size: {}'.format(palindrome, len(palindrome)))"
   ]
  }
 ],
 "metadata": {
  "kernelspec": {
   "display_name": "Python 3",
   "language": "python",
   "name": "python3"
  },
  "language_info": {
   "codemirror_mode": {
    "name": "ipython",
    "version": 3
   },
   "file_extension": ".py",
   "mimetype": "text/x-python",
   "name": "python",
   "nbconvert_exporter": "python",
   "pygments_lexer": "ipython3",
   "version": "3.7.3"
  }
 },
 "nbformat": 4,
 "nbformat_minor": 4
}
