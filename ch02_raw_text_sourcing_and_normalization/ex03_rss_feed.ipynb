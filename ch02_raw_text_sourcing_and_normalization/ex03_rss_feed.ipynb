{
 "cells": [
  {
   "cell_type": "markdown",
   "metadata": {},
   "source": [
    "## RSS Feed\n",
    "\n",
    "This example shows how to read contents from RSS feeds."
   ]
  },
  {
   "cell_type": "code",
   "execution_count": 1,
   "metadata": {},
   "outputs": [
    {
     "name": "stdout",
     "output_type": "stream",
     "text": [
      "Collecting feedparser\n",
      "  Using cached feedparser-5.2.1.tar.bz2 (192 kB)\n",
      "Building wheels for collected packages: feedparser\n",
      "  Building wheel for feedparser (setup.py) ... \u001b[?25ldone\n",
      "\u001b[?25h  Created wheel for feedparser: filename=feedparser-5.2.1-py3-none-any.whl size=44939 sha256=c272086a10dd54dbbebac22e14ac1d28dedc91cda5072d86c622a60c6d3d8a24\n",
      "  Stored in directory: /Users/alextanhongpin/Library/Caches/pip/wheels/4a/87/a9/ef99b7b68f9816d5ef1262dc11ce31a93a844eb69e68c1a031\n",
      "Successfully built feedparser\n",
      "Installing collected packages: feedparser\n",
      "Successfully installed feedparser-5.2.1\n"
     ]
    }
   ],
   "source": [
    "!pip3 install feedparser"
   ]
  },
  {
   "cell_type": "code",
   "execution_count": 2,
   "metadata": {},
   "outputs": [],
   "source": [
    "import feedparser"
   ]
  },
  {
   "cell_type": "code",
   "execution_count": 4,
   "metadata": {},
   "outputs": [
    {
     "name": "stdout",
     "output_type": "stream",
     "text": [
      "Feed title: Mashable\n",
      "Number of posts: 30\n"
     ]
    }
   ],
   "source": [
    "feed = feedparser.parse('http://feeds.mashable.com/Mashable')\n",
    "print('Feed title:', feed['feed']['title'])\n",
    "print('Number of posts:', len(feed.entries))"
   ]
  },
  {
   "cell_type": "code",
   "execution_count": 5,
   "metadata": {},
   "outputs": [
    {
     "name": "stdout",
     "output_type": "stream",
     "text": [
      "Post title: What to expect from Samsung's Galaxy Unpacked 2020 event\n"
     ]
    }
   ],
   "source": [
    "post = feed.entries[0]\n",
    "print('Post title:', post.title)"
   ]
  },
  {
   "cell_type": "code",
   "execution_count": 6,
   "metadata": {},
   "outputs": [
    {
     "name": "stdout",
     "output_type": "stream",
     "text": [
      "Raw content: <img alt=\"What to expect from Samsung&#39;s Galaxy Unpacked 2020 event\" src=\"https://mondrian.mashable.com/lead-img-samsung-galaxy-unpacked-what-to-expect-2020.jpg\" /><p>The world may be at something of a standstill thanks to COVID-19, but Samsung is still out here making <a href=\"https://mashable.com/article/samsung-galaxy-note-20-ultra-leak/?utm_campaign&amp;utm_context=textlink&amp;utm_medium=rss&amp;utm_source\">flagship phones</a> and, uh, <a href=\"https://mashable.com/article/samsung-galaxy-beans-leaked/?utm_campaign&amp;utm_context=textlink&amp;utm_medium=rss&amp;utm_source\">other things</a>. As such, we have another Galaxy Unpacked event to look forward to this week.</p>\n",
      "<p>Samsung <a href=\"https://mashable.com/article/samsung-galaxy-unpacked-2020-online-only/?utm_campaign&amp;utm_context=textlink&amp;utm_medium=rss&amp;utm_source\">previously announced</a> that its next Galaxy Unpacked would be online-only for <a href=\"https://www.cdc.gov/coronavirus/2019-ncov/cases-updates/cases-in-us.html\">obvious reasons</a>. The event will stream on <a href=\"https://www.samsung.com/us/smartphones/\">Samsung's website</a> at 10 a.m. ET on Aug. 5. In a <a href=\"https://news.samsung.com/us/tm-roh-steering-mobile-industry-through-the-next-normal-unpacked/\">blog post</a>, Samsung revealed it would announce five new devices at the event. Since the new Galaxy Z Flip 5G has been <a href=\"https://mashable.com/article/samsung-galaxy-z-flip-5g-preorder/?utm_campaign&amp;utm_context=textlink&amp;utm_medium=rss&amp;utm_source\">officially confirmed</a>, we can probably strike that one off the long list.&#160;</p>\n",
      "<p>Thanks to a <a href=\"https://mashable.com/article/samsung-galaxy-tab-s7-plus-leaked-specs/?utm_campaign&amp;utm_context=textlink&amp;utm_medium=rss&amp;utm_source\">litany of leaks </a>(what else is new?), we have a pretty good idea of what we'll be seeing at Galaxy Unpacked. Get ready to see the word \"Galaxy\" <em>way</em> too many times. <a href=\"https://mashable.com/article/samsung-galaxy-unpacked-what-to-expect-2020/\">Read more...</a></p>More about <a href=\"https://mashable.com/category/samsung/?utm_campaign=Mash-Prod-RSS-Feedburner-All-Partial&amp;utm_cid=Mash-Prod-RSS-Feedburner-All-Partial\">Samsung</a>, <a href=\"https://mashable.com/category/unpacked2020/?utm_campaign=Mash-Prod-RSS-Feedburner-All-Partial&amp;utm_cid=Mash-Prod-RSS-Feedburner-All-Partial\">Unpacked2020</a>, <a href=\"https://mashable.com/tech/?utm_campaign=Mash-Prod-RSS-Feedburner-All-Partial&amp;utm_cid=Mash-Prod-RSS-Feedburner-All-Partial\">Tech</a>, <a href=\"https://mashable.com/category/consumer-tech/?utm_campaign=Mash-Prod-RSS-Feedburner-All-Partial&amp;utm_cid=Mash-Prod-RSS-Feedburner-All-Partial\">Consumer Tech</a>, and <a href=\"https://mashable.com/category/big-tech-companies/?utm_campaign=Mash-Prod-RSS-Feedburner-All-Partial&amp;utm_cid=Mash-Prod-RSS-Feedburner-All-Partial\">Big Tech Companies</a><img src=\"http://feeds.feedburner.com/~r/Mashable/~4/vdLNhT-Jdhc\" height=\"1\" width=\"1\" alt=\"\"/>\n"
     ]
    }
   ],
   "source": [
    "content = post.content[0].value\n",
    "print('Raw content:', content)"
   ]
  }
 ],
 "metadata": {
  "kernelspec": {
   "display_name": "Python 3",
   "language": "python",
   "name": "python3"
  },
  "language_info": {
   "codemirror_mode": {
    "name": "ipython",
    "version": 3
   },
   "file_extension": ".py",
   "mimetype": "text/x-python",
   "name": "python",
   "nbconvert_exporter": "python",
   "pygments_lexer": "ipython3",
   "version": "3.7.3"
  }
 },
 "nbformat": 4,
 "nbformat_minor": 4
}
