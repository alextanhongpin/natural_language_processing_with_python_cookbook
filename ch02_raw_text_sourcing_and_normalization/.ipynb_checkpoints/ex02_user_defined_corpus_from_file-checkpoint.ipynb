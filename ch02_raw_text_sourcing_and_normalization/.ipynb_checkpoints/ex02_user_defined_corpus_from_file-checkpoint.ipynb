{
 "cells": [
  {
   "cell_type": "markdown",
   "metadata": {},
   "source": [
    "# User-defined corpus\n",
    "\n",
    "Taking PDF, DOCX and plain text files and creating a user-defined corpus from them."
   ]
  },
  {
   "cell_type": "code",
   "execution_count": 24,
   "metadata": {},
   "outputs": [
    {
     "name": "stderr",
     "output_type": "stream",
     "text": [
      "[nltk_data] Downloading package punkt to\n",
      "[nltk_data]     /Users/alextanhongpin/nltk_data...\n",
      "[nltk_data]   Unzipping tokenizers/punkt.zip.\n"
     ]
    },
    {
     "data": {
      "text/plain": [
       "True"
      ]
     },
     "execution_count": 24,
     "metadata": {},
     "output_type": "execute_result"
    }
   ],
   "source": [
    "import os\n",
    "import word, pdf\n",
    "from nltk.corpus.reader.plaintext import PlaintextCorpusReader\n",
    "import nltk\n",
    "nltk.download('punkt')"
   ]
  },
  {
   "cell_type": "code",
   "execution_count": 3,
   "metadata": {},
   "outputs": [],
   "source": [
    "def get_text(filename):\n",
    "    file = open(filename, 'r')\n",
    "    return file.read()"
   ]
  },
  {
   "cell_type": "code",
   "execution_count": 6,
   "metadata": {},
   "outputs": [],
   "source": [
    "new_corpus_dir = 'corpus/'\n",
    "if not os.path.isdir(new_corpus_dir):\n",
    "    os.mkdir(new_corpus_dir)"
   ]
  },
  {
   "cell_type": "code",
   "execution_count": 10,
   "metadata": {},
   "outputs": [
    {
     "data": {
      "text/plain": [
       "'hello world'"
      ]
     },
     "execution_count": 10,
     "metadata": {},
     "output_type": "execute_result"
    }
   ],
   "source": [
    "txt1 = get_text('./document.txt')\n",
    "txt1"
   ]
  },
  {
   "cell_type": "code",
   "execution_count": 11,
   "metadata": {},
   "outputs": [
    {
     "data": {
      "text/plain": [
       "'Sample document.!Hello world'"
      ]
     },
     "execution_count": 11,
     "metadata": {},
     "output_type": "execute_result"
    }
   ],
   "source": [
    "txt2 = pdf.get_text('./document.pdf')\n",
    "txt2"
   ]
  },
  {
   "cell_type": "code",
   "execution_count": 12,
   "metadata": {},
   "outputs": [
    {
     "name": "stdout",
     "output_type": "stream",
     "text": [
      "Number of paragraphs: 3\n",
      "Paragraph 1: Sample document.\n",
      "Paragraph 1 style: _ParagraphStyle('Body') id: 4374713904\n",
      "Paragraph 1 runs:\n",
      "Run 1: Sample document. None None None\n",
      "\n",
      "Paragraph 2: \n",
      "Paragraph 2 style: _ParagraphStyle('Body') id: 4485345464\n",
      "Paragraph 2 runs:\n",
      "\n",
      "Paragraph 3: Hello world\n",
      "Paragraph 3 style: _ParagraphStyle('Body') id: 4485347256\n",
      "Paragraph 3 runs:\n",
      "Run 1: Hello world None None None\n",
      "\n"
     ]
    },
    {
     "data": {
      "text/plain": [
       "'Sample document.\\n\\nHello world'"
      ]
     },
     "execution_count": 12,
     "metadata": {},
     "output_type": "execute_result"
    }
   ],
   "source": [
    "txt3 = word.get_text('./document.docx')\n",
    "txt3"
   ]
  },
  {
   "cell_type": "code",
   "execution_count": 13,
   "metadata": {},
   "outputs": [],
   "source": [
    "files = [txt1, txt2, txt3]\n",
    "for idx, f in enumerate(files):\n",
    "    with open(f'{new_corpus_dir}{idx}.txt', 'w') as fout:\n",
    "        fout.write(f)"
   ]
  },
  {
   "cell_type": "code",
   "execution_count": 14,
   "metadata": {},
   "outputs": [],
   "source": [
    "new_corpus = PlaintextCorpusReader(new_corpus_dir, '.*')"
   ]
  },
  {
   "cell_type": "code",
   "execution_count": 16,
   "metadata": {},
   "outputs": [
    {
     "data": {
      "text/plain": [
       "['hello', 'world', 'Sample', 'document', '.!', 'Hello', ...]"
      ]
     },
     "execution_count": 16,
     "metadata": {},
     "output_type": "execute_result"
    }
   ],
   "source": [
    "new_corpus.words()"
   ]
  },
  {
   "cell_type": "code",
   "execution_count": 20,
   "metadata": {},
   "outputs": [
    {
     "data": {
      "text/plain": [
       "['0.txt', '1.txt', '2.txt']"
      ]
     },
     "execution_count": 20,
     "metadata": {},
     "output_type": "execute_result"
    }
   ],
   "source": [
    "fileids = new_corpus.fileids()\n",
    "fileids"
   ]
  },
  {
   "cell_type": "code",
   "execution_count": 31,
   "metadata": {},
   "outputs": [
    {
     "name": "stdout",
     "output_type": "stream",
     "text": [
      "sents: [['hello', 'world']]\n",
      "paras: [[['hello', 'world']]]\n",
      "\n",
      "sents: [['Sample', 'document', '.'], ['!', 'Hello', 'world']]\n",
      "paras: [[['Sample', 'document', '.'], ['!', 'Hello', 'world']]]\n",
      "\n",
      "sents: [['Sample', 'document', '.'], ['Hello', 'world']]\n",
      "paras: [[['Sample', 'document', '.']], [['Hello', 'world']]]\n",
      "\n"
     ]
    }
   ],
   "source": [
    "for fileid in fileids:\n",
    "    print('sents:', new_corpus.sents(fileid))\n",
    "    print('paras:', new_corpus.paras(fileid))\n",
    "    print()"
   ]
  }
 ],
 "metadata": {
  "kernelspec": {
   "display_name": "Python 3",
   "language": "python",
   "name": "python3"
  },
  "language_info": {
   "codemirror_mode": {
    "name": "ipython",
    "version": 3
   },
   "file_extension": ".py",
   "mimetype": "text/x-python",
   "name": "python",
   "nbconvert_exporter": "python",
   "pygments_lexer": "ipython3",
   "version": "3.7.3"
  }
 },
 "nbformat": 4,
 "nbformat_minor": 4
}
