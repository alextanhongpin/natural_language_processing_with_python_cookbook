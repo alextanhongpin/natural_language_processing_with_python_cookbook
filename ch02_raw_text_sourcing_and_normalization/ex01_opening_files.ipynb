{
 "cells": [
  {
   "cell_type": "markdown",
   "metadata": {},
   "source": [
    "## Opening files\n",
    "\n",
    "This example demonstrates how to open different types of files (PDFs, docx)."
   ]
  },
  {
   "cell_type": "code",
   "execution_count": 3,
   "metadata": {},
   "outputs": [
    {
     "name": "stdout",
     "output_type": "stream",
     "text": [
      "Collecting pypdf2\n",
      "  Downloading PyPDF2-1.26.0.tar.gz (77 kB)\n",
      "\u001b[K     |████████████████████████████████| 77 kB 4.1 MB/s eta 0:00:011\n",
      "\u001b[?25hBuilding wheels for collected packages: pypdf2\n",
      "  Building wheel for pypdf2 (setup.py) ... \u001b[?25ldone\n",
      "\u001b[?25h  Created wheel for pypdf2: filename=PyPDF2-1.26.0-py3-none-any.whl size=61084 sha256=4a0115a14edd9b2b189b2f5c29f4c5bd60c0d1eeaa1b333493a4d2dd00f52597\n",
      "  Stored in directory: /Users/alextanhongpin/Library/Caches/pip/wheels/80/1a/24/648467ade3a77ed20f35cfd2badd32134e96dd25ca811e64b3\n",
      "Successfully built pypdf2\n",
      "Installing collected packages: pypdf2\n",
      "Successfully installed pypdf2-1.26.0\n"
     ]
    }
   ],
   "source": [
    "!pip3 install pypdf2"
   ]
  },
  {
   "cell_type": "code",
   "execution_count": 22,
   "metadata": {},
   "outputs": [],
   "source": [
    "from PyPDF2 import PdfFileReader"
   ]
  },
  {
   "cell_type": "code",
   "execution_count": 28,
   "metadata": {},
   "outputs": [],
   "source": [
    "def get_pdf_text(filename, password=''):\n",
    "    pdf_file = open(filename, 'rb')\n",
    "    read_pdf = PdfFileReader(pdf_file)\n",
    "    if password != '':\n",
    "        read_pdf.decrypt(password)\n",
    "    \n",
    "    text = []\n",
    "    for i in range(0, read_pdf.getNumPages()):\n",
    "        text.append(read_pdf.getPage(i).extractText())\n",
    "    \n",
    "    return '\\n'.join(text)"
   ]
  },
  {
   "cell_type": "code",
   "execution_count": 29,
   "metadata": {},
   "outputs": [
    {
     "data": {
      "text/plain": [
       "'Sample document.!Hello world'"
      ]
     },
     "execution_count": 29,
     "metadata": {},
     "output_type": "execute_result"
    }
   ],
   "source": [
    "get_pdf_text('./document.pdf')"
   ]
  },
  {
   "cell_type": "code",
   "execution_count": 32,
   "metadata": {},
   "outputs": [],
   "source": [
    "# This does not work.\n",
    "# get_pdf_text('./document_with_password.pdf', 'python')"
   ]
  },
  {
   "cell_type": "code",
   "execution_count": 33,
   "metadata": {},
   "outputs": [
    {
     "name": "stdout",
     "output_type": "stream",
     "text": [
      "Collecting python-docx\n",
      "  Downloading python-docx-0.8.10.tar.gz (5.5 MB)\n",
      "\u001b[K     |████████████████████████████████| 5.5 MB 5.1 MB/s eta 0:00:01     |████████████████████████▎       | 4.2 MB 5.1 MB/s eta 0:00:01\n",
      "\u001b[?25hCollecting lxml>=2.3.2\n",
      "  Downloading lxml-4.5.2-cp37-cp37m-macosx_10_9_x86_64.whl (4.4 MB)\n",
      "\u001b[K     |████████████████████████████████| 4.4 MB 23.7 MB/s eta 0:00:01\n",
      "\u001b[?25hBuilding wheels for collected packages: python-docx\n",
      "  Building wheel for python-docx (setup.py) ... \u001b[?25ldone\n",
      "\u001b[?25h  Created wheel for python-docx: filename=python_docx-0.8.10-py3-none-any.whl size=184489 sha256=081b108c558ca7d8042d47baf5e53494d029cb9886dc64674200e4518346da5b\n",
      "  Stored in directory: /Users/alextanhongpin/Library/Caches/pip/wheels/75/c6/69/05491f32dc052cd70476b65f5bf7082a9b274045f6b001b821\n",
      "Successfully built python-docx\n",
      "Installing collected packages: lxml, python-docx\n",
      "Successfully installed lxml-4.5.2 python-docx-0.8.10\n"
     ]
    }
   ],
   "source": [
    "!pip3 install python-docx"
   ]
  },
  {
   "cell_type": "code",
   "execution_count": 34,
   "metadata": {},
   "outputs": [],
   "source": [
    "import docx"
   ]
  },
  {
   "cell_type": "code",
   "execution_count": 60,
   "metadata": {},
   "outputs": [],
   "source": [
    "def get_text_word(filename):\n",
    "    doc = docx.Document(filename)\n",
    "    \n",
    "    # Print info.\n",
    "    print('Number of paragraphs:', len(doc.paragraphs))\n",
    "    \n",
    "    text = []\n",
    "    for idx, p in enumerate(doc.paragraphs):\n",
    "        text.append(p.text)\n",
    "        print(f'Paragraph {idx+1}:', doc.paragraphs[idx].text)\n",
    "        print(f'Paragraph {idx+1} style:', doc.paragraphs[idx].style)\n",
    "        print(f'Paragraph {idx+1} runs:')\n",
    "        for i, run in enumerate(doc.paragraphs[idx].runs):\n",
    "            print(f'Run {i+1}:', run.text, run.bold, run.italic, run.underline)\n",
    "        print()\n",
    "    \n",
    "    return '\\n'.join(text)"
   ]
  },
  {
   "cell_type": "code",
   "execution_count": 61,
   "metadata": {},
   "outputs": [
    {
     "name": "stdout",
     "output_type": "stream",
     "text": [
      "Number of paragraphs: 3\n",
      "Paragraph 1: Sample document.\n",
      "Paragraph 1 style: _ParagraphStyle('Body') id: 4459550704\n",
      "Paragraph 1 runs:\n",
      "Run 1: Sample document. None None None\n",
      "\n",
      "Paragraph 2: \n",
      "Paragraph 2 style: _ParagraphStyle('Body') id: 4459550928\n",
      "Paragraph 2 runs:\n",
      "\n",
      "Paragraph 3: Hello world\n",
      "Paragraph 3 style: _ParagraphStyle('Body') id: 4459550928\n",
      "Paragraph 3 runs:\n",
      "Run 1: Hello world None None None\n",
      "\n"
     ]
    },
    {
     "data": {
      "text/plain": [
       "'Sample document.\\n\\nHello world'"
      ]
     },
     "execution_count": 61,
     "metadata": {},
     "output_type": "execute_result"
    }
   ],
   "source": [
    "get_text_word('document.docx')"
   ]
  }
 ],
 "metadata": {
  "kernelspec": {
   "display_name": "Python 3",
   "language": "python",
   "name": "python3"
  },
  "language_info": {
   "codemirror_mode": {
    "name": "ipython",
    "version": 3
   },
   "file_extension": ".py",
   "mimetype": "text/x-python",
   "name": "python",
   "nbconvert_exporter": "python",
   "pygments_lexer": "ipython3",
   "version": "3.7.3"
  }
 },
 "nbformat": 4,
 "nbformat_minor": 4
}
