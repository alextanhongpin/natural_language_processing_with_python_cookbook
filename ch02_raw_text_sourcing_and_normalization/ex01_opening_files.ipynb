{
 "cells": [
  {
   "cell_type": "markdown",
   "metadata": {},
   "source": [
    "## Opening files\n",
    "\n",
    "This example demonstrates how to open different types of files (PDFs, docx)."
   ]
  },
  {
   "cell_type": "code",
   "execution_count": 1,
   "metadata": {},
   "outputs": [
    {
     "name": "stdout",
     "output_type": "stream",
     "text": [
      "Collecting pypdf2\n",
      "  Using cached PyPDF2-1.26.0.tar.gz (77 kB)\n",
      "Building wheels for collected packages: pypdf2\n",
      "  Building wheel for pypdf2 (setup.py) ... \u001b[?25ldone\n",
      "\u001b[?25h  Created wheel for pypdf2: filename=PyPDF2-1.26.0-py3-none-any.whl size=61084 sha256=577ebab0383e40eaa8e02e387dd0a6f77a84b656abf085ca26129aab64972148\n",
      "  Stored in directory: /Users/alextanhongpin/Library/Caches/pip/wheels/b1/1a/8f/a4c34be976825a2f7948d0fa40907598d69834f8ab5889de11\n",
      "Successfully built pypdf2\n",
      "Installing collected packages: pypdf2\n",
      "Successfully installed pypdf2-1.26.0\n"
     ]
    }
   ],
   "source": [
    "!pip3 install pypdf2\n",
    "#!pipenv install pypdf2"
   ]
  },
  {
   "cell_type": "code",
   "execution_count": 7,
   "metadata": {},
   "outputs": [],
   "source": [
    "import pdf, word"
   ]
  },
  {
   "cell_type": "code",
   "execution_count": 3,
   "metadata": {},
   "outputs": [
    {
     "data": {
      "text/plain": [
       "'Sample document.!Hello world'"
      ]
     },
     "execution_count": 3,
     "metadata": {},
     "output_type": "execute_result"
    }
   ],
   "source": [
    "pdf.get_text('./document.pdf')"
   ]
  },
  {
   "cell_type": "code",
   "execution_count": 4,
   "metadata": {},
   "outputs": [],
   "source": [
    "# This does not work.\n",
    "# get_pdf_text('./document_with_password.pdf', 'python')"
   ]
  },
  {
   "cell_type": "code",
   "execution_count": 5,
   "metadata": {},
   "outputs": [
    {
     "name": "stdout",
     "output_type": "stream",
     "text": [
      "Collecting python-docx\n",
      "  Using cached python-docx-0.8.10.tar.gz (5.5 MB)\n",
      "Collecting lxml>=2.3.2\n",
      "  Downloading lxml-4.5.2-cp38-cp38-macosx_10_9_x86_64.whl (4.5 MB)\n",
      "\u001b[K     |████████████████████████████████| 4.5 MB 4.9 MB/s eta 0:00:01\n",
      "\u001b[?25hBuilding wheels for collected packages: python-docx\n",
      "  Building wheel for python-docx (setup.py) ... \u001b[?25ldone\n",
      "\u001b[?25h  Created wheel for python-docx: filename=python_docx-0.8.10-py3-none-any.whl size=184489 sha256=2fa417cb82c67873760a0641251179e9b7589af5088f6ebcc895c828d78ede72\n",
      "  Stored in directory: /Users/alextanhongpin/Library/Caches/pip/wheels/97/4c/2e/68066cbf12b9b2e66403da8982aaf4f656d9f5cb5dc3179e82\n",
      "Successfully built python-docx\n",
      "Installing collected packages: lxml, python-docx\n",
      "Successfully installed lxml-4.5.2 python-docx-0.8.10\n"
     ]
    }
   ],
   "source": [
    "!pip3 install python-docx"
   ]
  },
  {
   "cell_type": "code",
   "execution_count": 8,
   "metadata": {},
   "outputs": [
    {
     "name": "stdout",
     "output_type": "stream",
     "text": [
      "Number of paragraphs: 3\n",
      "Paragraph 1: Sample document.\n",
      "Paragraph 1 style: _ParagraphStyle('Body') id: 4525689768\n",
      "Paragraph 1 runs:\n",
      "Run 1: Sample document. None None None\n",
      "\n",
      "Paragraph 2: \n",
      "Paragraph 2 style: _ParagraphStyle('Body') id: 4525690552\n",
      "Paragraph 2 runs:\n",
      "\n",
      "Paragraph 3: Hello world\n",
      "Paragraph 3 style: _ParagraphStyle('Body') id: 4525690552\n",
      "Paragraph 3 runs:\n",
      "Run 1: Hello world None None None\n",
      "\n"
     ]
    },
    {
     "data": {
      "text/plain": [
       "'Sample document.\\n\\nHello world'"
      ]
     },
     "execution_count": 8,
     "metadata": {},
     "output_type": "execute_result"
    }
   ],
   "source": [
    "word.get_text('document.docx')"
   ]
  }
 ],
 "metadata": {
  "kernelspec": {
   "display_name": "Python 3",
   "language": "python",
   "name": "python3"
  },
  "language_info": {
   "codemirror_mode": {
    "name": "ipython",
    "version": 3
   },
   "file_extension": ".py",
   "mimetype": "text/x-python",
   "name": "python",
   "nbconvert_exporter": "python",
   "pygments_lexer": "ipython3",
   "version": "3.7.3"
  }
 },
 "nbformat": 4,
 "nbformat_minor": 4
}
